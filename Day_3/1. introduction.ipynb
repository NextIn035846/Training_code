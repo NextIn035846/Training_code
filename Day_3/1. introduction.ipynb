{
 "cells": [
  {
   "cell_type": "markdown",
   "id": "2f0b51b7",
   "metadata": {},
   "source": [
    "## Models\n",
    "### The Completion (Pre-2022, GPT-3 style)\n",
    "\n",
    "The completion API was the first way to interact with LLMs. Input was just one big text string (\"prompt\"), and the model simply continued writing.\n",
    "\n",
    "#### Challenges\n",
    "\n",
    "- No roles → everything (instructions, history, user query) had to be crammed into one string.\n",
    "\n",
    "- Manual memory → if you wanted a multi-turn chat, you had to paste the entire chat history back into the prompt each time.\n",
    "\n",
    "- Fragile prompts → you had to carefully \"prompt engineer\" so the model didn’t drift.\n",
    "\n",
    "- ➡️ So while powerful, completion models were awkward for dialogue or complex reasoning."
   ]
  },
  {
   "cell_type": "code",
   "execution_count": 4,
   "id": "6b702873",
   "metadata": {},
   "outputs": [],
   "source": [
    "import os\n",
    "from dotenv import load_dotenv,find_dotenv\n",
    "_=load_dotenv(find_dotenv())\n",
    "openai_api_key = os.getenv(\"OPENAI_API_KEY\")\n",
    "Gemini_api_key = os.getenv(\"Gemini_API_KEY\")\n"
   ]
  },
  {
   "cell_type": "markdown",
   "id": "43abf6f2",
   "metadata": {},
   "source": [
    "https://python.langchain.com/docs/integrations/llms/openai/"
   ]
  },
  {
   "cell_type": "code",
   "execution_count": 7,
   "id": "48d587a1",
   "metadata": {},
   "outputs": [
    {
     "name": "stderr",
     "output_type": "stream",
     "text": [
      "C:\\Users\\Acer\\AppData\\Local\\Temp\\ipykernel_13428\\1164440702.py:3: LangChainDeprecationWarning: The method `BaseLLM.__call__` was deprecated in langchain-core 0.1.7 and will be removed in 1.0. Use :meth:`~invoke` instead.\n",
      "  response = llm(\"What is the capital of France?\")\n"
     ]
    },
    {
     "name": "stdout",
     "output_type": "stream",
     "text": [
      "The capital of France is Paris.\n"
     ]
    }
   ],
   "source": [
    "from langchain_google_genai import GoogleGenerativeAI\n",
    "llm = GoogleGenerativeAI(temperature=0,model=\"gemini-2.5-flash\")\n",
    "response = llm(\"What is the capital of France?\")\n",
    "print(response)"
   ]
  },
  {
   "cell_type": "code",
   "execution_count": null,
   "id": "57edcdcd",
   "metadata": {},
   "outputs": [
    {
     "data": {
      "text/plain": [
       "OpenAI(client=<openai.resources.completions.Completions object at 0x00000228CB73D6A0>, async_client=<openai.resources.completions.AsyncCompletions object at 0x00000228CB73DFD0>, model_kwargs={}, openai_api_key=SecretStr('**********'))"
      ]
     },
     "execution_count": 2,
     "metadata": {},
     "output_type": "execute_result"
    }
   ],
   "source": [
    "#completions model\n",
    "from langchain_openai import OpenAI\n",
    "\n",
    "llm = OpenAI()"
   ]
  },
  {
   "cell_type": "code",
   "execution_count": 3,
   "id": "d0b15524",
   "metadata": {},
   "outputs": [
    {
     "name": "stderr",
     "output_type": "stream",
     "text": [
      "C:\\Users\\Acer\\AppData\\Local\\Temp\\ipykernel_11436\\1836697357.py:1: LangChainDeprecationWarning: The method `BaseLLM.__call__` was deprecated in langchain-core 0.1.7 and will be removed in 1.0. Use :meth:`~invoke` instead.\n",
      "  response = llm(\"What is the capital of France?\")\n"
     ]
    },
    {
     "name": "stdout",
     "output_type": "stream",
     "text": [
      "\n",
      "\n",
      "The capital of France is Paris.\n"
     ]
    }
   ],
   "source": [
    "response = llm(\"What is the capital of France?\")\n",
    "print(response)"
   ]
  },
  {
   "cell_type": "code",
   "execution_count": 8,
   "id": "fee13c1c",
   "metadata": {},
   "outputs": [
    {
     "name": "stdout",
     "output_type": "stream",
     "text": [
      "One fun fact about the Kennedy family is that they were famously competitive, especially when it came to their legendary touch football games!\n",
      "\n",
      "These weren't just casual games; they were intense, full-contact (despite being \"touch\"), and often involved multiple generations of the family at their Hyannis Port compound. Everyone was expected to play hard, and winning was definitely the goal! It was a key part of their family bonding and showcased their athletic and competitive spirit."
     ]
    }
   ],
   "source": [
    "for chunk in llm.stream(\"Tell me one fun fact about the kennedy family ?\"):\n",
    "    print(chunk, end=\"\", flush=True)\n"
   ]
  },
  {
   "cell_type": "markdown",
   "id": "fae1317e",
   "metadata": {},
   "source": [
    "## Chatmodel\n",
    "The Chatmodel (Post-2022, GPT-3.5/GPT-4, Claude, Gemini, etc.)\n",
    "\n",
    "Gemini introduced the Chat API, shifting the paradigm. Instead of a flat string, input became a structured list of messages:\n",
    "\n",
    "- system: sets rules & personality\n",
    "\n",
    "- user: provides input/questions\n",
    "\n",
    "- assistant: AI’s past responses\n",
    "\n",
    "- (Later) tool/function: allows calling APIs or code\n",
    "\n",
    "#### Benefits\n",
    "\n",
    "- Cleaner structure → no need to hack prompts to separate instructions from queries.\n",
    "\n",
    "- Multi-turn conversations → easily trackable because messages are explicit.\n",
    "\n",
    "- Safer & more controllable → system messages define the assistant’s role (“You are a legal advisor…”).\n",
    "\n",
    "- Foundation for Agents → since we can now add \"tools\" or \"function calls\", the model can not only talk but also act.\n",
    "\n",
    "- ➡️ This turned LLMs from text generators into interactive assistants."
   ]
  },
  {
   "cell_type": "markdown",
   "id": "a36dd221",
   "metadata": {},
   "source": [
    "https://python.langchain.com/docs/integrations/chat/"
   ]
  },
  {
   "cell_type": "code",
   "execution_count": 5,
   "id": "29ba2790",
   "metadata": {},
   "outputs": [],
   "source": [
    "from langchain_openai import ChatOpenAI\n",
    "\n",
    "chatModel = ChatOpenAI(model=\"gpt-3.5-turbo-0125\")"
   ]
  },
  {
   "cell_type": "code",
   "execution_count": 12,
   "id": "d477e2ae",
   "metadata": {},
   "outputs": [],
   "source": [
    "from langchain_google_genai import ChatGoogleGenerativeAI\n",
    "\n",
    "Chatmodel = ChatGoogleGenerativeAI(\n",
    "    model=\"gemini-2.5-flash\",\n",
    "    temperature=0,\n",
    "    max_tokens=None,\n",
    "    timeout=None,\n",
    "    max_retries=2,\n",
    ")"
   ]
  },
  {
   "cell_type": "code",
   "execution_count": 13,
   "id": "51ff49b1",
   "metadata": {},
   "outputs": [],
   "source": [
    "message =[\n",
    "    (\"system\",\"You are an historian expert in kennedy family.\"),\n",
    "    (\"human\",\"Tell me one curious thing about JFK\"),\n",
    "]\n",
    "response = Chatmodel.invoke(message)"
   ]
  },
  {
   "cell_type": "code",
   "execution_count": 16,
   "id": "1368bfa0",
   "metadata": {},
   "outputs": [
    {
     "data": {
      "text/plain": [
       "AIMessage(content='One truly curious thing about JFK, often overlooked by the general public, is the **extent and secrecy of his chronic health problems.**\\n\\nWhile he projected an image of youthful vigor and athleticism, JFK was, in reality, a man in constant pain and battling a host of serious ailments throughout his adult life, particularly during his presidency.\\n\\nHere\\'s why it\\'s curious:\\n\\n1.  **Addison\\'s Disease:** He was diagnosed with Addison\\'s Disease in 1947, a rare and serious endocrine disorder that affects the adrenal glands. This was kept a closely guarded secret, as the public perception of the disease at the time was that it was debilitating and potentially fatal. His press secretary famously denied he had it, claiming it was just a \"malaria condition\" from the war.\\n2.  **Chronic Back Pain:** He suffered from severe, debilitating back pain for most of his adult life, exacerbated by his PT-109 injury during WWII, but also stemming from earlier issues. He underwent multiple surgeries, often with limited success, and wore a back brace almost constantly.\\n3.  **A \"Cocktail\" of Medications:** To manage his various conditions – including Addison\\'s, back pain, colitis, and other infections – he was on a complex daily regimen of medications. This included corticosteroids (like hydrocortisone for Addison\\'s), painkillers, antispasmodics, antibiotics, and even stimulants. He received regular injections, sometimes multiple times a day.\\n4.  **The Contrast:** The striking contrast between his carefully crafted public image of a vibrant, healthy leader and the private reality of a man often in severe pain, frequently hospitalized (secretly), and heavily medicated, is truly remarkable. He managed to perform at an incredibly high level despite these immense physical challenges, which speaks volumes about his resilience and determination.\\n\\nIt\\'s a fascinating historical secret that highlights the lengths to which public figures (and their teams) would go to control their image, especially in an era before the intense media scrutiny of today.', additional_kwargs={}, response_metadata={'prompt_feedback': {'block_reason': 0, 'safety_ratings': []}, 'finish_reason': 'STOP', 'model_name': 'gemini-2.5-flash', 'safety_ratings': []}, id='run--3901a676-cf9a-4e37-bdea-0e9cb9a5684f-0', usage_metadata={'input_tokens': 18, 'output_tokens': 1240, 'total_tokens': 1258, 'input_token_details': {'cache_read': 0}, 'output_token_details': {'reasoning': 820}})"
      ]
     },
     "execution_count": 16,
     "metadata": {},
     "output_type": "execute_result"
    }
   ],
   "source": [
    "response"
   ]
  },
  {
   "cell_type": "code",
   "execution_count": 14,
   "id": "929df761",
   "metadata": {},
   "outputs": [
    {
     "data": {
      "text/plain": [
       "{'prompt_feedback': {'block_reason': 0, 'safety_ratings': []},\n",
       " 'finish_reason': 'STOP',\n",
       " 'model_name': 'gemini-2.5-flash',\n",
       " 'safety_ratings': []}"
      ]
     },
     "execution_count": 14,
     "metadata": {},
     "output_type": "execute_result"
    }
   ],
   "source": [
    "response.response_metadata"
   ]
  },
  {
   "cell_type": "code",
   "execution_count": 15,
   "id": "29bd9a93",
   "metadata": {},
   "outputs": [
    {
     "data": {
      "text/plain": [
       "'One truly curious thing about JFK, often overlooked by the general public, is the **extent and secrecy of his chronic health problems.**\\n\\nWhile he projected an image of youthful vigor and athleticism, JFK was, in reality, a man in constant pain and battling a host of serious ailments throughout his adult life, particularly during his presidency.\\n\\nHere\\'s why it\\'s curious:\\n\\n1.  **Addison\\'s Disease:** He was diagnosed with Addison\\'s Disease in 1947, a rare and serious endocrine disorder that affects the adrenal glands. This was kept a closely guarded secret, as the public perception of the disease at the time was that it was debilitating and potentially fatal. His press secretary famously denied he had it, claiming it was just a \"malaria condition\" from the war.\\n2.  **Chronic Back Pain:** He suffered from severe, debilitating back pain for most of his adult life, exacerbated by his PT-109 injury during WWII, but also stemming from earlier issues. He underwent multiple surgeries, often with limited success, and wore a back brace almost constantly.\\n3.  **A \"Cocktail\" of Medications:** To manage his various conditions – including Addison\\'s, back pain, colitis, and other infections – he was on a complex daily regimen of medications. This included corticosteroids (like hydrocortisone for Addison\\'s), painkillers, antispasmodics, antibiotics, and even stimulants. He received regular injections, sometimes multiple times a day.\\n4.  **The Contrast:** The striking contrast between his carefully crafted public image of a vibrant, healthy leader and the private reality of a man often in severe pain, frequently hospitalized (secretly), and heavily medicated, is truly remarkable. He managed to perform at an incredibly high level despite these immense physical challenges, which speaks volumes about his resilience and determination.\\n\\nIt\\'s a fascinating historical secret that highlights the lengths to which public figures (and their teams) would go to control their image, especially in an era before the intense media scrutiny of today.'"
      ]
     },
     "execution_count": 15,
     "metadata": {},
     "output_type": "execute_result"
    }
   ],
   "source": [
    "response.content"
   ]
  },
  {
   "cell_type": "code",
   "execution_count": 11,
   "id": "d3e1a71e",
   "metadata": {},
   "outputs": [
    {
     "name": "stderr",
     "output_type": "stream",
     "text": [
      "C:\\Users\\Acer\\AppData\\Local\\Temp\\ipykernel_11436\\4004604031.py:1: PydanticDeprecatedSince20: The `schema` method is deprecated; use `model_json_schema` instead. Deprecated in Pydantic V2.0 to be removed in V3.0. See Pydantic V2 Migration Guide at https://errors.pydantic.dev/2.11/migration/\n",
      "  response.schema()\n"
     ]
    },
    {
     "data": {
      "text/plain": [
       "{'$defs': {'InputTokenDetails': {'description': 'Breakdown of input token counts.\\n\\nDoes *not* need to sum to full input token count. Does *not* need to have all keys.\\n\\nExample:\\n\\n    .. code-block:: python\\n\\n        {\\n            \"audio\": 10,\\n            \"cache_creation\": 200,\\n            \"cache_read\": 100,\\n        }\\n\\n.. versionadded:: 0.3.9\\n\\nMay also hold extra provider-specific keys.',\n",
       "   'properties': {'audio': {'title': 'Audio', 'type': 'integer'},\n",
       "    'cache_creation': {'title': 'Cache Creation', 'type': 'integer'},\n",
       "    'cache_read': {'title': 'Cache Read', 'type': 'integer'}},\n",
       "   'title': 'InputTokenDetails',\n",
       "   'type': 'object'},\n",
       "  'InvalidToolCall': {'description': 'Allowance for errors made by LLM.\\n\\nHere we add an `error` key to surface errors made during generation\\n(e.g., invalid JSON arguments.)',\n",
       "   'properties': {'name': {'anyOf': [{'type': 'string'}, {'type': 'null'}],\n",
       "     'title': 'Name'},\n",
       "    'args': {'anyOf': [{'type': 'string'}, {'type': 'null'}], 'title': 'Args'},\n",
       "    'id': {'anyOf': [{'type': 'string'}, {'type': 'null'}], 'title': 'Id'},\n",
       "    'error': {'anyOf': [{'type': 'string'}, {'type': 'null'}],\n",
       "     'title': 'Error'},\n",
       "    'type': {'const': 'invalid_tool_call', 'title': 'Type', 'type': 'string'}},\n",
       "   'required': ['name', 'args', 'id', 'error'],\n",
       "   'title': 'InvalidToolCall',\n",
       "   'type': 'object'},\n",
       "  'OutputTokenDetails': {'description': 'Breakdown of output token counts.\\n\\nDoes *not* need to sum to full output token count. Does *not* need to have all keys.\\n\\nExample:\\n\\n    .. code-block:: python\\n\\n        {\\n            \"audio\": 10,\\n            \"reasoning\": 200,\\n        }\\n\\n.. versionadded:: 0.3.9',\n",
       "   'properties': {'audio': {'title': 'Audio', 'type': 'integer'},\n",
       "    'reasoning': {'title': 'Reasoning', 'type': 'integer'}},\n",
       "   'title': 'OutputTokenDetails',\n",
       "   'type': 'object'},\n",
       "  'ToolCall': {'description': 'Represents a request to call a tool.\\n\\nExample:\\n\\n    .. code-block:: python\\n\\n        {\\n            \"name\": \"foo\",\\n            \"args\": {\"a\": 1},\\n            \"id\": \"123\"\\n        }\\n\\n    This represents a request to call the tool named \"foo\" with arguments {\"a\": 1}\\n    and an identifier of \"123\".',\n",
       "   'properties': {'name': {'title': 'Name', 'type': 'string'},\n",
       "    'args': {'additionalProperties': True, 'title': 'Args', 'type': 'object'},\n",
       "    'id': {'anyOf': [{'type': 'string'}, {'type': 'null'}], 'title': 'Id'},\n",
       "    'type': {'const': 'tool_call', 'title': 'Type', 'type': 'string'}},\n",
       "   'required': ['name', 'args', 'id'],\n",
       "   'title': 'ToolCall',\n",
       "   'type': 'object'},\n",
       "  'UsageMetadata': {'description': 'Usage metadata for a message, such as token counts.\\n\\nThis is a standard representation of token usage that is consistent across models.\\n\\nExample:\\n\\n    .. code-block:: python\\n\\n        {\\n            \"input_tokens\": 350,\\n            \"output_tokens\": 240,\\n            \"total_tokens\": 590,\\n            \"input_token_details\": {\\n                \"audio\": 10,\\n                \"cache_creation\": 200,\\n                \"cache_read\": 100,\\n            },\\n            \"output_token_details\": {\\n                \"audio\": 10,\\n                \"reasoning\": 200,\\n            }\\n        }\\n\\n.. versionchanged:: 0.3.9\\n\\n    Added ``input_token_details`` and ``output_token_details``.',\n",
       "   'properties': {'input_tokens': {'title': 'Input Tokens', 'type': 'integer'},\n",
       "    'output_tokens': {'title': 'Output Tokens', 'type': 'integer'},\n",
       "    'total_tokens': {'title': 'Total Tokens', 'type': 'integer'},\n",
       "    'input_token_details': {'$ref': '#/$defs/InputTokenDetails'},\n",
       "    'output_token_details': {'$ref': '#/$defs/OutputTokenDetails'}},\n",
       "   'required': ['input_tokens', 'output_tokens', 'total_tokens'],\n",
       "   'title': 'UsageMetadata',\n",
       "   'type': 'object'}},\n",
       " 'additionalProperties': True,\n",
       " 'description': 'Message from an AI.\\n\\nAIMessage is returned from a chat model as a response to a prompt.\\n\\nThis message represents the output of the model and consists of both\\nthe raw output as returned by the model together standardized fields\\n(e.g., tool calls, usage metadata) added by the LangChain framework.',\n",
       " 'properties': {'content': {'anyOf': [{'type': 'string'},\n",
       "    {'items': {'anyOf': [{'type': 'string'},\n",
       "       {'additionalProperties': True, 'type': 'object'}]},\n",
       "     'type': 'array'}],\n",
       "   'title': 'Content'},\n",
       "  'additional_kwargs': {'additionalProperties': True,\n",
       "   'title': 'Additional Kwargs',\n",
       "   'type': 'object'},\n",
       "  'response_metadata': {'additionalProperties': True,\n",
       "   'title': 'Response Metadata',\n",
       "   'type': 'object'},\n",
       "  'type': {'const': 'ai', 'default': 'ai', 'title': 'Type', 'type': 'string'},\n",
       "  'name': {'anyOf': [{'type': 'string'}, {'type': 'null'}],\n",
       "   'default': None,\n",
       "   'title': 'Name'},\n",
       "  'id': {'anyOf': [{'type': 'string'}, {'type': 'null'}],\n",
       "   'default': None,\n",
       "   'title': 'Id'},\n",
       "  'example': {'default': False, 'title': 'Example', 'type': 'boolean'},\n",
       "  'tool_calls': {'default': [],\n",
       "   'items': {'$ref': '#/$defs/ToolCall'},\n",
       "   'title': 'Tool Calls',\n",
       "   'type': 'array'},\n",
       "  'invalid_tool_calls': {'default': [],\n",
       "   'items': {'$ref': '#/$defs/InvalidToolCall'},\n",
       "   'title': 'Invalid Tool Calls',\n",
       "   'type': 'array'},\n",
       "  'usage_metadata': {'anyOf': [{'$ref': '#/$defs/UsageMetadata'},\n",
       "    {'type': 'null'}],\n",
       "   'default': None}},\n",
       " 'required': ['content'],\n",
       " 'title': 'AIMessage',\n",
       " 'type': 'object'}"
      ]
     },
     "execution_count": 11,
     "metadata": {},
     "output_type": "execute_result"
    }
   ],
   "source": [
    "response.schema()"
   ]
  },
  {
   "cell_type": "markdown",
   "id": "a27257a6",
   "metadata": {},
   "source": [
    "## What are Embedding Models?\n",
    "Embedding models are a fundamental component of modern artificial intelligence (AI) and machine learning (ML). They are designed to transform complex data, such as text, images, and audio, into a numerical form that machines can understand and work with. This numerical representation is called an \"embedding.\"\n",
    "\n",
    "Essentially, an embedding is a way of representing real-world objects and concepts in a mathematical space. Data points with similar meanings or characteristics are positioned closer to each other in this space, while dissimilar items are placed further apart. This allows AI systems to grasp the relationships and similarities between different pieces of data."
   ]
  },
  {
   "cell_type": "code",
   "execution_count": null,
   "id": "0b6cfc24",
   "metadata": {},
   "outputs": [
    {
     "name": "stdout",
     "output_type": "stream",
     "text": [
      "[-0.018690016120672226, 0.01163514330983162, -0.0041361479088664055, -0.09514622390270233, -0.002261050511151552]\n"
     ]
    },
    {
     "ename": "",
     "evalue": "",
     "output_type": "error",
     "traceback": [
      "\u001b[1;31mThe Kernel crashed while executing code in the current cell or a previous cell. \n",
      "\u001b[1;31mPlease review the code in the cell(s) to identify a possible cause of the failure. \n",
      "\u001b[1;31mClick <a href='https://aka.ms/vscodeJupyterKernelCrash'>here</a> for more info. \n",
      "\u001b[1;31mView Jupyter <a href='command:jupyter.viewOutput'>log</a> for further details."
     ]
    }
   ],
   "source": [
    "from langchain_google_genai import GoogleGenerativeAIEmbeddings\n",
    "\n",
    "embeddings = GoogleGenerativeAIEmbeddings(model=\"models/gemini-embedding-001\")\n",
    "vector = embeddings.embed_query(\"What are embeddings?\")\n",
    "print(vector[:5])"
   ]
  },
  {
   "cell_type": "markdown",
   "id": "32202006",
   "metadata": {},
   "source": [
    "## Old Langchain"
   ]
  },
  {
   "cell_type": "code",
   "execution_count": 12,
   "id": "422feedf",
   "metadata": {},
   "outputs": [],
   "source": [
    "from langchain_core.messages import HumanMessage,SystemMessage\n",
    "from langchain_core.prompts import ChatPromptTemplate"
   ]
  },
  {
   "cell_type": "code",
   "execution_count": 13,
   "id": "1bde295c",
   "metadata": {},
   "outputs": [],
   "source": [
    "message =[\n",
    "    SystemMessage(content=\"You are an historian expert in kennedy family.\"),\n",
    "    HumanMessage(content=\"How many children did JFK have?\"),\n",
    "]\n",
    "response = chatModel.invoke(message)"
   ]
  },
  {
   "cell_type": "code",
   "execution_count": 14,
   "id": "46b2fc9c",
   "metadata": {},
   "outputs": [
    {
     "data": {
      "text/plain": [
       "AIMessage(content='John F. Kennedy, commonly known as JFK, and his wife Jacqueline Kennedy had four children together. Their children were Caroline Kennedy, John F. Kennedy Jr., Patrick Bouvier Kennedy, who died shortly after birth, and Arabella Kennedy, who was stillborn.', additional_kwargs={'refusal': None}, response_metadata={'token_usage': {'completion_tokens': 53, 'prompt_tokens': 28, 'total_tokens': 81, 'completion_tokens_details': {'accepted_prediction_tokens': 0, 'audio_tokens': 0, 'reasoning_tokens': 0, 'rejected_prediction_tokens': 0}, 'prompt_tokens_details': {'audio_tokens': 0, 'cached_tokens': 0}}, 'model_name': 'gpt-3.5-turbo-0125', 'system_fingerprint': None, 'id': 'chatcmpl-C534u13QGHtieVAoxhoItC3WILfoV', 'service_tier': 'default', 'finish_reason': 'stop', 'logprobs': None}, id='run--f9304e02-7617-4234-96cb-2d19a9c96419-0', usage_metadata={'input_tokens': 28, 'output_tokens': 53, 'total_tokens': 81, 'input_token_details': {'audio': 0, 'cache_read': 0}, 'output_token_details': {'audio': 0, 'reasoning': 0}})"
      ]
     },
     "execution_count": 14,
     "metadata": {},
     "output_type": "execute_result"
    }
   ],
   "source": [
    "response"
   ]
  },
  {
   "cell_type": "markdown",
   "id": "6d113ae7",
   "metadata": {},
   "source": [
    "## Alternative LLM\n"
   ]
  },
  {
   "cell_type": "code",
   "execution_count": 15,
   "id": "7880ec8a",
   "metadata": {},
   "outputs": [],
   "source": [
    "import os\n",
    "from dotenv import load_dotenv, find_dotenv\n",
    "_ = load_dotenv(find_dotenv())"
   ]
  },
  {
   "cell_type": "code",
   "execution_count": 16,
   "id": "5a381ae6",
   "metadata": {},
   "outputs": [],
   "source": [
    "from langchain_groq import ChatGroq\n",
    "\n",
    "llamaChatModel = ChatGroq(\n",
    "    model=\"llama3-70b-8192\"\n",
    ")"
   ]
  },
  {
   "cell_type": "code",
   "execution_count": 17,
   "id": "637625ce",
   "metadata": {},
   "outputs": [],
   "source": [
    "\n",
    "messages = [\n",
    "    (\"system\", \"You are an historian expert in the Kennedy family.\"),\n",
    "    (\"human\", \"How many members of the family died tragically?\"),\n",
    "]"
   ]
  },
  {
   "cell_type": "code",
   "execution_count": 18,
   "id": "adae56c5",
   "metadata": {},
   "outputs": [],
   "source": [
    "llamaResponse = llamaChatModel.invoke(messages)\n"
   ]
  },
  {
   "cell_type": "code",
   "execution_count": 19,
   "id": "c22fd2bc",
   "metadata": {},
   "outputs": [
    {
     "name": "stdout",
     "output_type": "stream",
     "text": [
      "What a tragic and storied history the Kennedy family has endured. Unfortunately, the family has experienced a disproportionate number of tragic and untimely deaths, which have become a part of their legacy.\n",
      "\n",
      "Here are the members of the Kennedy family who died tragically:\n",
      "\n",
      "1. Joseph P. Kennedy Jr. (1915-1944): The eldest son of Joseph P. Kennedy Sr. and Rose Kennedy, Joe Jr. was a naval aviator who was killed in action during World War II. He was just 29 years old when his plane exploded on a secret mission over the English Channel.\n",
      "\n",
      "2. Kathleen Kennedy Cavendish (1920-1948): Known as \"Kick,\" Kathleen was the fourth child and second daughter of Joseph and Rose Kennedy. She died in a plane crash in France at the age of 28, just four years after her brother Joe Jr.'s death.\n",
      "\n",
      "3. John F. Kennedy (1917-1963): The 35th President of the United States, John F. Kennedy was assassinated in Dallas, Texas, on November 22, 1963, at the age of 46.\n",
      "\n",
      "4. Robert F. Kennedy (1925-1968): John's younger brother and Attorney General of the United States, Robert Kennedy was assassinated on June 5, 1968, during his presidential campaign in Los Angeles, California. He was 42 years old.\n",
      "\n",
      "5. David Kennedy (1955-1984): The 12th of Robert F. Kennedy's 11 children, David died of a drug overdose at the age of 28 in 1984.\n",
      "\n",
      "6. Michael Kennedy (1958-1997): Another son of Robert F. Kennedy, Michael died in a skiing accident in Aspen, Colorado, on December 31, 1997, at the age of 39.\n",
      "\n",
      "7. John F. Kennedy Jr. (1960-1999): The son of John F. Kennedy and Jacqueline Kennedy Onassis, John Jr. died in a plane crash on July 18, 1999, at the age of 38, along with his wife Carolyn Bessette Kennedy and her sister Lauren Bessette.\n",
      "\n",
      "8. Kara Kennedy (1960-2011): The daughter of Edward M. Kennedy, Kara died of a heart attack at the age of 51 in 2011, after a long battle with lung cancer.\n",
      "\n",
      "These tragic events have become an integral part of the Kennedy family's history, earning them the reputation of being \"cursed.\" However, it's essential to remember the many accomplishments, contributions, and legacies of this remarkable family, which continue to inspire and captivate people around the world.\n"
     ]
    }
   ],
   "source": [
    "print(llamaResponse.content)\n"
   ]
  }
 ],
 "metadata": {
  "kernelspec": {
   "display_name": ".venv",
   "language": "python",
   "name": "python3"
  },
  "language_info": {
   "codemirror_mode": {
    "name": "ipython",
    "version": 3
   },
   "file_extension": ".py",
   "mimetype": "text/x-python",
   "name": "python",
   "nbconvert_exporter": "python",
   "pygments_lexer": "ipython3",
   "version": "3.13.3"
  }
 },
 "nbformat": 4,
 "nbformat_minor": 5
}

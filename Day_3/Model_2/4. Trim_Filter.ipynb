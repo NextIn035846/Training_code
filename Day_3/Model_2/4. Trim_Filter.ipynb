{
 "cells": [
  {
   "cell_type": "markdown",
   "id": "066d165f",
   "metadata": {},
   "source": [
    "## Filter and Trimming Messages"
   ]
  },
  {
   "cell_type": "code",
   "execution_count": 1,
   "id": "b77b4e84",
   "metadata": {},
   "outputs": [],
   "source": [
    "import os\n",
    "from dotenv import load_dotenv\n",
    "from langchain_groq import ChatGroq\n",
    "load_dotenv()\n",
    "\n",
    "os.environ[\"GROQ_API_KEY\"] = os.getenv(\"GROQ_API_KEY\")\n",
    "LLM = ChatGroq(model=\"deepseek-r1-distill-llama-70b\")\n"
   ]
  },
  {
   "cell_type": "markdown",
   "id": "5933c661",
   "metadata": {},
   "source": [
    "## Messages as state\n",
    "\n",
    "First, let's define some messages."
   ]
  },
  {
   "cell_type": "code",
   "execution_count": 2,
   "id": "933b9a30",
   "metadata": {},
   "outputs": [
    {
     "name": "stdout",
     "output_type": "stream",
     "text": [
      "==================================\u001b[1m Ai Message \u001b[0m==================================\n",
      "Name: Bot\n",
      "\n",
      "So you said you were researching ocean mammals?\n",
      "================================\u001b[1m Human Message \u001b[0m=================================\n",
      "Name: Thomas\n",
      "\n",
      "Yes, I know about whales. But what others should I learn about?\n"
     ]
    }
   ],
   "source": [
    "from pprint import pprint\n",
    "from langchain_core.messages import AIMessage ,HumanMessage\n",
    "\n",
    "messages = [AIMessage(f\"So you said you were researching ocean mammals?\", name=\"Bot\")]\n",
    "messages.append(HumanMessage(f\"Yes, I know about whales. But what others should I learn about?\", name=\"Thomas\"))\n",
    "\n",
    "for m in messages:\n",
    "    m.pretty_print()"
   ]
  },
  {
   "cell_type": "code",
   "execution_count": 3,
   "id": "10fd9bba",
   "metadata": {},
   "outputs": [
    {
     "data": {
      "text/plain": [
       "AIMessage(content='<think>\\nOkay, the user is asking about ocean mammals beyond whales. They mentioned they know about whales but want to explore others. I should provide a comprehensive list of different species. Let me think about the main categories—like seals, sea lions, manatees, etc. I need to include each with some key facts to give them a good overview. Also, maybe suggest some interesting ones like dugongs or walruses. I should make sure to cover their habitats and unique behaviors to make it informative. Let me organize this into a list with clear headings so it\\'s easy to read.\\n</think>\\n\\nYes, there are many fascinating ocean mammals beyond whales! Here are some you might want to learn about:\\n\\n### 1. **Seals and Sea Lions**\\n   - **Seals**: These are fin-footed, semi-aquatic marine mammals. They are closely related to sea lions and walruses but are smaller and have shorter flippers.\\n   - **Sea Lions**: Larger than seals, sea lions are known for their ability to walk on their flippers and are often seen in coastal areas.\\n\\n### 2. **Manatees and Dugongs**\\n   - **Manatees**: These gentle, slow-moving aquatic mammals are found in shallow waters in the Caribbean and the Gulf of Mexico. They are also known as \"sea cows\" because they graze on seaweed and sea grasses.\\n   - **Dugongs**: Similar to manatees, dugongs are found in the warm waters of the Indo-Pacific region. They are also herbivores and are closely related to elephants.\\n\\n### 3. **Walruses**\\n   - Walruses are large, carnivorous mammals with distinctive tusks. They live in the cold Arctic and sub-Arctic waters and are known for their thick blubber, which keeps them warm in freezing temperatures.\\n\\n### 4. **Otters**\\n   - Sea otters are small, playful mammals that live in shallow coastal waters. They are known for their thick fur, which is the densest of any mammal, and their habit of using tools (like rocks) to crack open shells.\\n\\n### 5. **Dolphins and Porpoises**\\n   - While dolphins are closely related to whales, they are generally smaller and more agile. Porpoises are similar to dolphins but have a more robust body and a smaller mouth.\\n\\n### 6. **Belugas**\\n   - Belugas are small, white whales with a distinctive rounded forehead. They are found in Arctic and sub-Arctic waters and are known for their playful and curious nature.\\n\\n### 7. **Narwhals**\\n   - Often called the \"unicorns of the sea,\" narwhals are Arctic whales with a long, spiraled tusk that protrudes from their forehead. The tusk is actually a modified tooth.\\n\\n### 8. **Sperm Whales**\\n   - The sperm whale is the largest toothed predator on Earth. It is known for its massive head and deep-diving abilities in search of squid.\\n\\n### 9. **Pinnipeds**\\n   - This is a broader category that includes seals, sea lions, and walruses. They all have flipper-like limbs and are adapted to life in the water.\\n\\n### 10. **Marine Otters**\\n   - While most otters are found in freshwater, the sea otter is a fully marine species, spending its entire life in the ocean.\\n\\nEach of these ocean mammals has unique adaptations and behaviors that have allowed them to thrive in their respective environments. Learning about their habitats, diets, and social structures can provide a deeper appreciation for the diversity of marine life.', additional_kwargs={}, response_metadata={'token_usage': {'completion_tokens': 752, 'prompt_tokens': 29, 'total_tokens': 781, 'completion_time': 2.597654577, 'prompt_time': 0.011682321, 'queue_time': 0.043214579, 'total_time': 2.609336898}, 'model_name': 'deepseek-r1-distill-llama-70b', 'system_fingerprint': 'fp_76307ac09b', 'service_tier': 'on_demand', 'finish_reason': 'stop', 'logprobs': None}, id='run--ba20c96c-13c1-460a-a707-cd2af982918e-0', usage_metadata={'input_tokens': 29, 'output_tokens': 752, 'total_tokens': 781})"
      ]
     },
     "execution_count": 3,
     "metadata": {},
     "output_type": "execute_result"
    }
   ],
   "source": [
    "LLM.invoke(messages)"
   ]
  },
  {
   "cell_type": "code",
   "execution_count": null,
   "id": "ea20ef4e",
   "metadata": {},
   "outputs": [
    {
     "name": "stderr",
     "output_type": "stream",
     "text": [
      "C:\\Users\\Acer\\AppData\\Local\\Temp\\ipykernel_15544\\4131422813.py:1: DeprecationWarning: module 'sre_parse' is deprecated\n",
      "  from sre_parse import State\n"
     ]
    },
    {
     "data": {
      "image/png": "[encoded data removed]",
      "text/plain": [
       "<IPython.core.display.Image object>"
      ]
     },
     "metadata": {},
     "output_type": "display_data"
    }
   ],
   "source": [
    "from sre_parse import State\n",
    "from IPython.display import display,Image\n",
    "from langgraph.graph import StateGraph,START,END,MessagesState\n",
    "\n",
    "\n",
    "def chat_model_node(state:MessagesState):\n",
    "    return {\"messages\":LLM.invoke(state[\"messages\"])}\n",
    "\n",
    "builder = StateGraph(MessagesState)\n",
    "builder.add_node(\"chat_model\", chat_model_node)\n",
    "builder.add_edge(START, \"chat_model\")\n",
    "builder.add_edge(\"chat_model\", END)\n",
    "\n",
    "graph = builder.compile()\n",
    "\n",
    "display(Image(graph.get_graph().draw_mermaid_png()))\n"
   ]
  },
  {
   "cell_type": "code",
   "execution_count": 5,
   "id": "6393576b",
   "metadata": {},
   "outputs": [
    {
     "name": "stdout",
     "output_type": "stream",
     "text": [
      "==================================\u001b[1m Ai Message \u001b[0m==================================\n",
      "Name: Bot\n",
      "\n",
      "So you said you were researching ocean mammals?\n",
      "================================\u001b[1m Human Message \u001b[0m=================================\n",
      "Name: Thomas\n",
      "\n",
      "Yes, I know about whales. But what others should I learn about?\n",
      "==================================\u001b[1m Ai Message \u001b[0m==================================\n",
      "\n",
      "<think>\n",
      "Okay, so the user mentioned they know about whales but are asking what other ocean mammals they should learn about. I need to provide a helpful response.\n",
      "\n",
      "First, I should figure out the user's background. They're researching ocean mammals, so maybe they're a student or someone with a casual interest. They already know whales, so they're looking to expand their knowledge.\n",
      "\n",
      "I should list other marine mammals besides whales. Let me think: seals, sea lions, manatees, dugongs, walruses, porpoises, and dolphins. Wait, dolphins are related to whales, but they're different enough to mention separately.\n",
      "\n",
      "I need to give a bit of info on each to highlight their unique characteristics. For example, seals vs. sea lions have different flippers and habitats. Manatees and dugongs are both sirenians but live in different waters. Walruses have those distinctive tusks. Porpoises are smaller than dolphins and prefer shallower waters.\n",
      "\n",
      "I should present this in a clear, organized way without making it too technical. Maybe a numbered list with brief descriptions. Also, I want to encourage them by saying these are fascinating creatures to study.\n",
      "\n",
      "I should keep the tone friendly and informative, making sure it's easy to understand. Let me put it all together in a way that's engaging and helpful for their research.\n",
      "</think>\n",
      "\n",
      "That's great that you're interested in ocean mammals! Besides whales, there are several other fascinating marine mammals you might want to explore. Here are some key ones to learn about:\n",
      "\n",
      "1. **Seals and Sea Lions**: These are pinnipeds, a group of fin-footed, semi-aquatic marine mammals. Seals (e.g., harbor seals) and sea lions (e.g., California sea lions) differ in physical characteristics and behaviors. Seals typically have shorter flippers and move differently on land compared to sea lions.\n",
      "\n",
      "2. **Manatees and Dugongs**: These are large, slow-moving aquatic mammals known as sirenians. Manatees are found in shallow, warm waters in the Caribbean and southeastern United States, while dugongs live in the Indo-Pacific region. Both are closely related to elephants and feed on aquatic plants.\n",
      "\n",
      "3. **Walruses**: Another pinniped, walruses are large marine mammals with distinctive tusks. They live in the Arctic and sub-Arctic regions and are known for their tough, wrinkled skin and their ability to dive deep for clams and other prey.\n",
      "\n",
      "4. **Porpoises**: Like dolphins, porpoises are toothed whales (odontocetes), but they are smaller and have distinct physical differences. Porpoises tend to prefer shallower, coastal waters and are less social than dolphins.\n",
      "\n",
      "5. **Dolphins**: While dolphins are closely related to whales, they are generally smaller and more agile. There are many species of dolphins, from the common bottlenose dolphin to the orca (which is actually a dolphin, not a whale).\n",
      "\n",
      "These are just a few examples, but there are many other marine mammals to explore. Each has unique adaptations to life in the water and plays an important role in their ecosystems. They are fascinating creatures to study!\n"
     ]
    }
   ],
   "source": [
    "output = graph.invoke({'messages': messages})\n",
    "for m in output['messages']:\n",
    "    m.pretty_print()"
   ]
  },
  {
   "cell_type": "markdown",
   "id": "2f3d0fe3",
   "metadata": {},
   "source": [
    "## Reducer\n",
    "\n",
    "A practical challenge when working with messages is managing long-running conversations. \n",
    "\n",
    "Long-running conversations result in high token usage and latency if we are not careful, because we pass a growing list of messages to the model.\n",
    "\n",
    "We have a few ways to address this.\n",
    "\n",
    "First, recall the trick we saw using `RemoveMessage` and the `add_messages` reducer."
   ]
  },
  {
   "cell_type": "code",
   "execution_count": 6,
   "id": "1884d96c",
   "metadata": {},
   "outputs": [
    {
     "data": {
      "image/png": "[encoded data removed]",
      "text/plain": [
       "<IPython.core.display.Image object>"
      ]
     },
     "metadata": {},
     "output_type": "display_data"
    }
   ],
   "source": [
    "from langchain_core.messages import RemoveMessage\n",
    "\n",
    "def filter_messages(state:MessagesState):\n",
    "    delete_messages = [RemoveMessage(id=m.id) for m in state[\"messages\"][:-2]]\n",
    "    return {\"messages\": delete_messages}\n",
    "\n",
    "def chat_model_node(state:MessagesState):\n",
    "    return{\"messages\":[LLM.invoke(state[\"messages\"])]}\n",
    "\n",
    "builder = StateGraph(MessagesState)\n",
    "builder.add_node(\"filter\",filter_messages)\n",
    "builder.add_node(\"chat_model\", chat_model_node)\n",
    "builder.add_edge(START, \"filter\")\n",
    "builder.add_edge(\"filter\", \"chat_model\")\n",
    "builder.add_edge(\"chat_model\", END)\n",
    "\n",
    "graph = builder.compile()\n",
    "\n",
    "display(Image(graph.get_graph().draw_mermaid_png()))\n",
    "\n"
   ]
  },
  {
   "cell_type": "code",
   "execution_count": 7,
   "id": "32da8772",
   "metadata": {},
   "outputs": [
    {
     "name": "stdout",
     "output_type": "stream",
     "text": [
      "==================================\u001b[1m Ai Message \u001b[0m==================================\n",
      "Name: Bot\n",
      "\n",
      "So you said you were researching ocean mammals?\n",
      "================================\u001b[1m Human Message \u001b[0m=================================\n",
      "Name: Lance\n",
      "\n",
      "Yes, I know about whales. But what others should I learn about?\n",
      "==================================\u001b[1m Ai Message \u001b[0m==================================\n",
      "\n",
      "<think>\n",
      "Okay, so the user mentioned they know about whales but are asking what other ocean mammals they should learn about. I need to provide a comprehensive yet concise list. \n",
      "\n",
      "First, I should think about the different categories of marine mammals. There are cetaceans beyond whales, like dolphins and porpoises. Then pinnipeds, which include seals, sea lions, and walruses. Manatees and dugongs are sirenians. There's also the extinct Steller's sea cow. Maybe include some others like otters and the extinct Desmostylia.\n",
      "\n",
      "I should list each with a brief description, maybe a fun fact or key characteristic to make it interesting. I should also mention why learning about them is important, like conservation or unique adaptations.\n",
      "\n",
      "I need to structure it clearly, perhaps using bullet points or sections. Make sure the information is accurate and up-to-date. Also, keep the language friendly and engaging to encourage the user's curiosity.\n",
      "\n",
      "I should also consider if the user is a student, researcher, or just someone with a casual interest. Since they asked for others beyond whales, they might be looking to broaden their knowledge, so providing a variety of examples would be helpful.\n",
      "\n",
      "I should avoid making the response too technical but still informative. Maybe suggest why each animal is interesting or important. Also, perhaps touch on their habitats and any conservation issues they face, as that adds depth.\n",
      "\n",
      "Finally, I should summarize the main points and encourage the user to explore further, maybe by suggesting starting points or highlighting which ones are most critical to understand the diversity of marine mammals.\n",
      "</think>\n",
      "\n",
      "That's great! Whales are fascinating creatures, but there are many other ocean mammals worth learning about. Here are some key ones to explore:\n",
      "\n",
      "### 1. **Dolphins and Porpoises**  \n",
      "   - **Dolphins** are highly intelligent, social marine mammals known for their playful behavior and advanced communication skills. They are closely related to whales and belong to the same order (Cetacea).  \n",
      "   - **Porpoises** are smaller, more shy relatives of dolphins. They tend to avoid boats and are less commonly seen.  \n",
      "\n",
      "### 2. **Seals, Sea Lions, and Walruses**  \n",
      "   - **Seals** (true seals) are fin-footed, streamlined swimmers with short flippers. They are more adapted to life in the water and can dive deeply.  \n",
      "   - **Sea Lions** are also fin-footed but have longer flippers and are more agile on land. They are known for their ability to \"walk\" using their flippers.  \n",
      "   - **Walruses** are large, tusked marine mammals that use their tusks for digging clams and hauling themselves out of the water.  \n",
      "\n",
      "### 3. **Manatees and Dugongs**  \n",
      "   - **Manatees** are slow-moving, gentle herbivores found in shallow, warm waters, primarily in the Caribbean and Gulf of Mexico.  \n",
      "   - **Dugongs** are similar to manatees but live in the Indo-Pacific region. They are also herbivores, feeding on sea grasses.  \n",
      "\n",
      "### 4. **Steller’s Sea Cow**  \n",
      "   - This is an extinct species, but it's worth learning about. Steller’s sea cows were massive marine mammals discovered in the 18th century. They were related to manatees and dugongs but were much larger. Unfortunately, they were hunted to extinction just 27 years after their discovery.  \n",
      "\n",
      "### 5. **Other Marine Mammals**  \n",
      "   - **Marine Otters**: Some species of otters, like the sea otter, are adapted to life in the ocean. They are known for their incredibly thick fur and their use of tools (like rocks) to crack open shells.  \n",
      "   - **Desmostylia**: This is an extinct group of marine mammals that were related to manatees and elephants. Their unique teeth and lifestyles make them an interesting topic for study.  \n",
      "\n",
      "### Why Learn About Ocean Mammals?  \n",
      "Ocean mammals are incredibly diverse, ranging from the tiny dwarf sperm whale to the massive blue whale. They play critical roles in marine ecosystems, from maintaining fish populations to helping regulate the ocean's carbon cycle. Learning about them also highlights important conservation issues, such as overhunting, habitat loss, and climate change.  \n",
      "\n",
      "If you're just starting, I recommend diving into the biology, behavior, and conservation of dolphins and manatees. They are well-studied and have fascinating stories to tell!\n"
     ]
    }
   ],
   "source": [
    "# Message list with a preamble\n",
    "messages = [AIMessage(\"Hi.\", name=\"Bot\", id=\"1\")]\n",
    "messages.append(HumanMessage(\"Hi.\", name=\"Lance\", id=\"2\"))\n",
    "messages.append(AIMessage(\"So you said you were researching ocean mammals?\", name=\"Bot\", id=\"3\"))\n",
    "messages.append(HumanMessage(\"Yes, I know about whales. But what others should I learn about?\", name=\"Lance\", id=\"4\"))\n",
    "\n",
    "# Invoke\n",
    "output = graph.invoke({'messages': messages})\n",
    "for m in output['messages']:\n",
    "    m.pretty_print()"
   ]
  },
  {
   "cell_type": "markdown",
   "id": "024781c8",
   "metadata": {},
   "source": [
    "## Filtering messages\n",
    "\n",
    "If you don't need or want to modify the graph state, you can just filter the messages you pass to the chat model.\n",
    "\n",
    "For example, just pass in a filtered list: `llm.invoke(messages[-1:])` to the model."
   ]
  },
  {
   "cell_type": "code",
   "execution_count": 8,
   "id": "a10ed11e",
   "metadata": {},
   "outputs": [
    {
     "data": {
      "image/png": "[encoded data removed]",
      "text/plain": [
       "<IPython.core.display.Image object>"
      ]
     },
     "metadata": {},
     "output_type": "display_data"
    }
   ],
   "source": [
    "# Node\n",
    "def chat_model_node(state: MessagesState):\n",
    "    return {\"messages\": [LLM.invoke(state[\"messages\"][-1:])]}\n",
    "\n",
    "# Build graph\n",
    "builder = StateGraph(MessagesState)\n",
    "builder.add_node(\"chat_model\", chat_model_node)\n",
    "builder.add_edge(START, \"chat_model\")\n",
    "builder.add_edge(\"chat_model\", END)\n",
    "graph = builder.compile()\n",
    "\n",
    "# View\n",
    "display(Image(graph.get_graph().draw_mermaid_png()))"
   ]
  },
  {
   "cell_type": "code",
   "execution_count": 9,
   "id": "074c3436",
   "metadata": {},
   "outputs": [],
   "source": [
    "messages.append(output['messages'][-1])\n",
    "messages.append(HumanMessage(f\"Tell me more about Narwhals!\", name=\"Lance\"))"
   ]
  },
  {
   "cell_type": "code",
   "execution_count": 10,
   "id": "4cce3659",
   "metadata": {},
   "outputs": [
    {
     "name": "stdout",
     "output_type": "stream",
     "text": [
      "==================================\u001b[1m Ai Message \u001b[0m==================================\n",
      "Name: Bot\n",
      "\n",
      "Hi.\n",
      "================================\u001b[1m Human Message \u001b[0m=================================\n",
      "Name: Lance\n",
      "\n",
      "Hi.\n",
      "==================================\u001b[1m Ai Message \u001b[0m==================================\n",
      "Name: Bot\n",
      "\n",
      "So you said you were researching ocean mammals?\n",
      "================================\u001b[1m Human Message \u001b[0m=================================\n",
      "Name: Lance\n",
      "\n",
      "Yes, I know about whales. But what others should I learn about?\n",
      "==================================\u001b[1m Ai Message \u001b[0m==================================\n",
      "\n",
      "<think>\n",
      "Okay, so the user mentioned they know about whales but are asking what other ocean mammals they should learn about. I need to provide a comprehensive yet concise list. \n",
      "\n",
      "First, I should think about the different categories of marine mammals. There are cetaceans beyond whales, like dolphins and porpoises. Then pinnipeds, which include seals, sea lions, and walruses. Manatees and dugongs are sirenians. There's also the extinct Steller's sea cow. Maybe include some others like otters and the extinct Desmostylia.\n",
      "\n",
      "I should list each with a brief description, maybe a fun fact or key characteristic to make it interesting. I should also mention why learning about them is important, like conservation or unique adaptations.\n",
      "\n",
      "I need to structure it clearly, perhaps using bullet points or sections. Make sure the information is accurate and up-to-date. Also, keep the language friendly and engaging to encourage the user's curiosity.\n",
      "\n",
      "I should also consider if the user is a student, researcher, or just someone with a casual interest. Since they asked for others beyond whales, they might be looking to broaden their knowledge, so providing a variety of examples would be helpful.\n",
      "\n",
      "I should avoid making the response too technical but still informative. Maybe suggest why each animal is interesting or important. Also, perhaps touch on their habitats and any conservation issues they face, as that adds depth.\n",
      "\n",
      "Finally, I should summarize the main points and encourage the user to explore further, maybe by suggesting starting points or highlighting which ones are most critical to understand the diversity of marine mammals.\n",
      "</think>\n",
      "\n",
      "That's great! Whales are fascinating creatures, but there are many other ocean mammals worth learning about. Here are some key ones to explore:\n",
      "\n",
      "### 1. **Dolphins and Porpoises**  \n",
      "   - **Dolphins** are highly intelligent, social marine mammals known for their playful behavior and advanced communication skills. They are closely related to whales and belong to the same order (Cetacea).  \n",
      "   - **Porpoises** are smaller, more shy relatives of dolphins. They tend to avoid boats and are less commonly seen.  \n",
      "\n",
      "### 2. **Seals, Sea Lions, and Walruses**  \n",
      "   - **Seals** (true seals) are fin-footed, streamlined swimmers with short flippers. They are more adapted to life in the water and can dive deeply.  \n",
      "   - **Sea Lions** are also fin-footed but have longer flippers and are more agile on land. They are known for their ability to \"walk\" using their flippers.  \n",
      "   - **Walruses** are large, tusked marine mammals that use their tusks for digging clams and hauling themselves out of the water.  \n",
      "\n",
      "### 3. **Manatees and Dugongs**  \n",
      "   - **Manatees** are slow-moving, gentle herbivores found in shallow, warm waters, primarily in the Caribbean and Gulf of Mexico.  \n",
      "   - **Dugongs** are similar to manatees but live in the Indo-Pacific region. They are also herbivores, feeding on sea grasses.  \n",
      "\n",
      "### 4. **Steller’s Sea Cow**  \n",
      "   - This is an extinct species, but it's worth learning about. Steller’s sea cows were massive marine mammals discovered in the 18th century. They were related to manatees and dugongs but were much larger. Unfortunately, they were hunted to extinction just 27 years after their discovery.  \n",
      "\n",
      "### 5. **Other Marine Mammals**  \n",
      "   - **Marine Otters**: Some species of otters, like the sea otter, are adapted to life in the ocean. They are known for their incredibly thick fur and their use of tools (like rocks) to crack open shells.  \n",
      "   - **Desmostylia**: This is an extinct group of marine mammals that were related to manatees and elephants. Their unique teeth and lifestyles make them an interesting topic for study.  \n",
      "\n",
      "### Why Learn About Ocean Mammals?  \n",
      "Ocean mammals are incredibly diverse, ranging from the tiny dwarf sperm whale to the massive blue whale. They play critical roles in marine ecosystems, from maintaining fish populations to helping regulate the ocean's carbon cycle. Learning about them also highlights important conservation issues, such as overhunting, habitat loss, and climate change.  \n",
      "\n",
      "If you're just starting, I recommend diving into the biology, behavior, and conservation of dolphins and manatees. They are well-studied and have fascinating stories to tell!\n",
      "================================\u001b[1m Human Message \u001b[0m=================================\n",
      "Name: Lance\n",
      "\n",
      "Tell me more about Narwhals!\n"
     ]
    }
   ],
   "source": [
    "for m in messages:\n",
    "    m.pretty_print()"
   ]
  },
  {
   "cell_type": "code",
   "execution_count": 11,
   "id": "e4892fed",
   "metadata": {},
   "outputs": [
    {
     "name": "stdout",
     "output_type": "stream",
     "text": [
      "==================================\u001b[1m Ai Message \u001b[0m==================================\n",
      "Name: Bot\n",
      "\n",
      "Hi.\n",
      "================================\u001b[1m Human Message \u001b[0m=================================\n",
      "Name: Lance\n",
      "\n",
      "Hi.\n",
      "==================================\u001b[1m Ai Message \u001b[0m==================================\n",
      "Name: Bot\n",
      "\n",
      "So you said you were researching ocean mammals?\n",
      "================================\u001b[1m Human Message \u001b[0m=================================\n",
      "Name: Lance\n",
      "\n",
      "Yes, I know about whales. But what others should I learn about?\n",
      "==================================\u001b[1m Ai Message \u001b[0m==================================\n",
      "\n",
      "<think>\n",
      "Okay, so the user mentioned they know about whales but are asking what other ocean mammals they should learn about. I need to provide a comprehensive yet concise list. \n",
      "\n",
      "First, I should think about the different categories of marine mammals. There are cetaceans beyond whales, like dolphins and porpoises. Then pinnipeds, which include seals, sea lions, and walruses. Manatees and dugongs are sirenians. There's also the extinct Steller's sea cow. Maybe include some others like otters and the extinct Desmostylia.\n",
      "\n",
      "I should list each with a brief description, maybe a fun fact or key characteristic to make it interesting. I should also mention why learning about them is important, like conservation or unique adaptations.\n",
      "\n",
      "I need to structure it clearly, perhaps using bullet points or sections. Make sure the information is accurate and up-to-date. Also, keep the language friendly and engaging to encourage the user's curiosity.\n",
      "\n",
      "I should also consider if the user is a student, researcher, or just someone with a casual interest. Since they asked for others beyond whales, they might be looking to broaden their knowledge, so providing a variety of examples would be helpful.\n",
      "\n",
      "I should avoid making the response too technical but still informative. Maybe suggest why each animal is interesting or important. Also, perhaps touch on their habitats and any conservation issues they face, as that adds depth.\n",
      "\n",
      "Finally, I should summarize the main points and encourage the user to explore further, maybe by suggesting starting points or highlighting which ones are most critical to understand the diversity of marine mammals.\n",
      "</think>\n",
      "\n",
      "That's great! Whales are fascinating creatures, but there are many other ocean mammals worth learning about. Here are some key ones to explore:\n",
      "\n",
      "### 1. **Dolphins and Porpoises**  \n",
      "   - **Dolphins** are highly intelligent, social marine mammals known for their playful behavior and advanced communication skills. They are closely related to whales and belong to the same order (Cetacea).  \n",
      "   - **Porpoises** are smaller, more shy relatives of dolphins. They tend to avoid boats and are less commonly seen.  \n",
      "\n",
      "### 2. **Seals, Sea Lions, and Walruses**  \n",
      "   - **Seals** (true seals) are fin-footed, streamlined swimmers with short flippers. They are more adapted to life in the water and can dive deeply.  \n",
      "   - **Sea Lions** are also fin-footed but have longer flippers and are more agile on land. They are known for their ability to \"walk\" using their flippers.  \n",
      "   - **Walruses** are large, tusked marine mammals that use their tusks for digging clams and hauling themselves out of the water.  \n",
      "\n",
      "### 3. **Manatees and Dugongs**  \n",
      "   - **Manatees** are slow-moving, gentle herbivores found in shallow, warm waters, primarily in the Caribbean and Gulf of Mexico.  \n",
      "   - **Dugongs** are similar to manatees but live in the Indo-Pacific region. They are also herbivores, feeding on sea grasses.  \n",
      "\n",
      "### 4. **Steller’s Sea Cow**  \n",
      "   - This is an extinct species, but it's worth learning about. Steller’s sea cows were massive marine mammals discovered in the 18th century. They were related to manatees and dugongs but were much larger. Unfortunately, they were hunted to extinction just 27 years after their discovery.  \n",
      "\n",
      "### 5. **Other Marine Mammals**  \n",
      "   - **Marine Otters**: Some species of otters, like the sea otter, are adapted to life in the ocean. They are known for their incredibly thick fur and their use of tools (like rocks) to crack open shells.  \n",
      "   - **Desmostylia**: This is an extinct group of marine mammals that were related to manatees and elephants. Their unique teeth and lifestyles make them an interesting topic for study.  \n",
      "\n",
      "### Why Learn About Ocean Mammals?  \n",
      "Ocean mammals are incredibly diverse, ranging from the tiny dwarf sperm whale to the massive blue whale. They play critical roles in marine ecosystems, from maintaining fish populations to helping regulate the ocean's carbon cycle. Learning about them also highlights important conservation issues, such as overhunting, habitat loss, and climate change.  \n",
      "\n",
      "If you're just starting, I recommend diving into the biology, behavior, and conservation of dolphins and manatees. They are well-studied and have fascinating stories to tell!\n",
      "================================\u001b[1m Human Message \u001b[0m=================================\n",
      "Name: Lance\n",
      "\n",
      "Tell me more about Narwhals!\n",
      "==================================\u001b[1m Ai Message \u001b[0m==================================\n",
      "\n",
      "<think>\n",
      "Alright, so I want to learn more about narwhals. I've heard they're called the unicorns of the sea because of their tusks, but I'm not entirely sure why. Let me try to piece this together.\n",
      "\n",
      "First off, I know narwhals are whales, but they're different from the whales I usually see pictures of. They must live in a specific environment. I remember hearing that polar regions are their habitat, so probably the Arctic areas. That makes sense because they have a thick layer of fat to keep warm, which I think is called blubber.\n",
      "\n",
      "Now, the tusk. I've seen images where narwhals have this long, spiraled tusk sticking out of their head. I'm not sure if it's a horn or a tooth. I think it's actually a tooth, maybe a modified one. I've heard conflicting things about whether the tusk is used for breaking ice, attracting mates, or maybe even sensing the environment. I'm not sure which is correct. I should look into that.\n",
      "\n",
      "I also recall that not all narwhals have tusks. I think it's usually the males that have them, but sometimes females do too. Maybe it's a sexual characteristic, used to impress females or fight with other males. But I'm not certain.\n",
      "\n",
      "Their diet must consist of Arctic prey. I'm guessing they eat fish, maybe some squid or other deep-sea creatures. They probably hunt in the deep waters but surface to breathe. I'm not sure how they hunt, though. Do they use echolocation like dolphins, or is it different?\n",
      "\n",
      "I'm curious about their social structure. Do they live in pods like orcas or other whales? I imagine they might travel in groups to protect themselves and hunt more effectively. How big are these pods? Are they usually small or can they be large?\n",
      "\n",
      "Conservation status is another area I'm unsure about. Are narwhals endangered? I know many Arctic species are affected by climate change, so maybe they're vulnerable. I should check if they're protected by any international laws or agreements.\n",
      "\n",
      "Their lifespan is something I don't know. I suppose it's similar to other whales, maybe a few decades. But I'm not certain about the exact numbers.\n",
      "\n",
      "I'm also interested in cultural aspects. How do narwhals feature in Inuit legends? I think they're part of some myths, maybe related to unicorns since their tusks were sometimes sold as unicorn horns in the past.\n",
      "\n",
      "Oh, and their size. How big do narwhals get? I know they're not as large as blue whales, but are they medium-sized? Maybe around 15-16 feet long? I'm not sure about their weight either.\n",
      "\n",
      "Swimming speed and depth must be important for their survival. Can they dive deep into the ocean? I think they might be capable of deep dives to catch prey, but I don't know the specifics.\n",
      "\n",
      "In terms of behavior, are they migratory? They probably move with the ice floes as the seasons change. Do they have specific migration patterns? I'm not sure how they adapt to the changing ice conditions, especially with climate change affecting sea ice.\n",
      "\n",
      "I'm also wondering about their predators. Who would prey on a narwhal? Maybe orcas or polar bears? I'm not certain.\n",
      "\n",
      "To sum up, I need to find more accurate information on their habitat, the tusk's purpose, diet, social behavior, conservation status, lifespan, cultural significance, size, swimming abilities, migration patterns, and predators.\n",
      "\n",
      "I should probably start by looking up each of these topics one by one to get a comprehensive understanding. Maybe start with the tusk since it's their most distinctive feature. Then move on to their habitat and behavior. Checking reliable sources like National Geographic or scientific journals would help ensure the information is accurate.\n",
      "\n",
      "I might also look into documentaries or educational videos that feature narwhals. Observing their behavior in their natural habitat could provide insights that aren't as clear from just reading.\n",
      "\n",
      "I should also consider how climate change is affecting narwhals. Since they depend on sea ice, any changes in ice coverage could impact their survival. Are there conservation efforts in place to protect them? What organizations are involved?\n",
      "\n",
      "Understanding their role in the ecosystem is important too. As apex predators, they probably play a key role in maintaining the balance of marine life in the Arctic.\n",
      "\n",
      "I'm also curious about any unique behaviors or adaptations they have. For example, how do they communicate? Do they use specific sounds or clicks? How do they navigate in the dark Arctic winters?\n",
      "\n",
      "Lastly, I should look into any recent research or studies on narwhals. Science is always evolving, and there might be new discoveries about their behavior, physiology, or population dynamics that I'm not aware of.\n",
      "\n",
      "By systematically researching each aspect, I can build a well-rounded understanding of narwhals and their place in the Arctic ecosystem.\n",
      "</think>\n",
      "\n",
      "**Narwhals: A Comprehensive Overview**\n",
      "\n",
      "**Introduction:**\n",
      "Narwhals, often referred to as the \"unicorns of the sea,\" are unique Arctic whales known for their distinctive tusks. This overview delves into their biology, behavior, and ecological significance, providing a detailed understanding of these intriguing creatures.\n",
      "\n",
      "**Physical Characteristics and Tusk:**\n",
      "- **Tusk:** The most notable feature of narwhals is their long, spiraled tusk, which is actually a modified left tooth that protrudes from the upper jaw. Typically found in males, though occasionally in females, the tusk can reach up to 10 feet (3 meters) in length. Its purpose is multifaceted: used for breaking ice, attracting mates, and possibly sensing the environment. It may also serve as a tool for social interaction and fighting among males.\n",
      "\n",
      "**Habitat and Environment:**\n",
      "- **Arctic Regions:** Narwhals inhabit the Arctic waters of Canada, Greenland, and Russia. They prefer areas with heavy sea ice, using it as a platform for resting and feeding. Their thick layer of blubber ensures they remain insulated in freezing temperatures.\n",
      "\n",
      "**Diet and Foraging:**\n",
      "- **Prey:** Narwhals primarily consume deep-sea fish, such as Arctic cod, and occasionally squid and shrimp. They hunt in deep waters, typically between 700-1,500 meters, using echolocation to navigate and find prey.\n",
      "\n",
      "**Social Structure:**\n",
      "- **Pods:** They are social creatures, often traveling in small pods of 10-100 individuals. These groups provide protection and enhance hunting efficiency.\n",
      "\n",
      "**Conservation Status:**\n",
      "- **Vulnerability:** Listed as \"Vulnerable\" on the IUCN Red List, narwhals are threatened by climate change, which affects sea ice coverage. They are protected under international agreements, including the Marine Mammal Protection Act and the International Whaling Commission.\n",
      "\n",
      "**Lifespan and Size:**\n",
      "- **Lifespan:** Narwhals can live for about 30-50 years.\n",
      "- **Size:** Adults typically range from 13-16 feet (4-4.9 meters) in length and weigh between 2,600-3,500 pounds (1,180-1,590 kilograms).\n",
      "\n",
      "**Swimming and Diving:**\n",
      "- **Depth and Speed:** Capable of deep dives, reaching depths of 1,500 meters, and can swim at speeds of up to 35 miles per hour (56 kilometers per hour).\n",
      "\n",
      "**Migration and Behavior:**\n",
      "- **Migration:** Narwhals migrate seasonally with ice floes, adapting to changing ice conditions. They are well-suited to Arctic life, with a circulatory system that prevents ice formation in their blood.\n",
      "\n",
      "**Predators and Threats:**\n",
      "- **Predation:** Potential predators include orcas, polar bears, and Greenland sharks. Human activities, such as hunting and climate change, pose significant threats.\n",
      "\n",
      "**Cultural Significance:**\n",
      "- **Mythology:** In Inuit culture, narwhals feature in legends, with their tusks sometimes used in traditional tools. Historically, their tusks were sold as \"unicorn horns\" in European markets.\n",
      "\n",
      "**Ecological Role:**\n",
      "- **Ecosystem Balance:** As apex predators, narwhals play a crucial role in maintaining the balance of Arctic marine ecosystems.\n",
      "\n",
      "**Research and Conservation:**\n",
      "- **Climate Impact:** Research indicates that narwhals are vulnerable to the impacts of climate change, particularly the reduction of sea ice. Conservation efforts focus on protecting their habitat and reducing human impacts.\n",
      "\n",
      "**Unique Behaviors and Adaptations:**\n",
      "- **Communication:** Narwhals use clicks, whistles, and pulsed calls for communication and echolocation.\n",
      "- **Navigation:** They navigate using echolocation, which is crucial in dark Arctic environments.\n",
      "\n",
      "**Conclusion:**\n",
      "Narwhals are fascinating creatures with unique adaptations to Arctic life. Their tusk, social behavior, and ecological role make them a vital part of the marine ecosystem. However, their vulnerability to climate change underscores the need for continued conservation efforts to protect these marine unicorns.\n"
     ]
    }
   ],
   "source": [
    "# Invoke, using message filtering\n",
    "output = graph.invoke({'messages': messages})\n",
    "for m in output['messages']:\n",
    "    m.pretty_print()"
   ]
  },
  {
   "cell_type": "markdown",
   "id": "7b040eac",
   "metadata": {},
   "source": [
    "## Trim messages\n",
    "\n",
    "Another approach is to [trim messages](https://python.langchain.com/v0.2/docs/how_to/trim_messages/#getting-the-last-max_tokens-tokens), based upon a set number of tokens. \n",
    "\n",
    "This restricts the message history to a specified number of tokens.\n",
    "\n",
    "While filtering only returns a post-hoc subset of the messages between agents, trimming restricts the number of tokens that a chat model can use to respond.\n",
    "\n",
    "See the `trim_messages` below."
   ]
  },
  {
   "cell_type": "code",
   "execution_count": 12,
   "id": "45fa552e",
   "metadata": {},
   "outputs": [
    {
     "data": {
      "image/png": "[encoded data removed]",
      "text/plain": [
       "<IPython.core.display.Image object>"
      ]
     },
     "metadata": {},
     "output_type": "display_data"
    }
   ],
   "source": [
    "from langchain_core.messages import trim_messages\n",
    "\n",
    "\n",
    "def chat_model_node(state: MessagesState):\n",
    "    messages = trim_messages(\n",
    "            state[\"messages\"],\n",
    "            max_tokens=100,\n",
    "            strategy=\"last\",\n",
    "            token_counter=ChatGroq(model=\"deepseek-r1-distill-llama-70b\"),\n",
    "            allow_partial=False,\n",
    "        )\n",
    "    return {\"messages\": [LLM.invoke(messages)]}\n",
    "\n",
    "\n",
    "# Build graph\n",
    "builder = StateGraph(MessagesState)\n",
    "builder.add_node(\"chat_model\", chat_model_node)\n",
    "builder.add_edge(START, \"chat_model\")\n",
    "builder.add_edge(\"chat_model\", END)\n",
    "graph = builder.compile()\n",
    "\n",
    "display(Image(graph.get_graph().draw_mermaid_png()))"
   ]
  },
  {
   "cell_type": "code",
   "execution_count": 13,
   "id": "55f51f3f",
   "metadata": {},
   "outputs": [],
   "source": [
    "messages.append(output['messages'][-1])\n",
    "messages.append(HumanMessage(f\"Tell me where Orcas live!\", name=\"Lance\"))"
   ]
  },
  {
   "cell_type": "code",
   "execution_count": 16,
   "id": "7862292e",
   "metadata": {},
   "outputs": [
    {
     "name": "stderr",
     "output_type": "stream",
     "text": [
      "t:\\LangGraph\\Langchain_Acadmy_Course_on_LangGraph\\.venv\\Lib\\site-packages\\tqdm\\auto.py:21: TqdmWarning: IProgress not found. Please update jupyter and ipywidgets. See https://ipywidgets.readthedocs.io/en/stable/user_install.html\n",
      "  from .autonotebook import tqdm as notebook_tqdm\n",
      "None of PyTorch, TensorFlow >= 2.0, or Flax have been found. Models won't be available and only tokenizers, configuration and file/data utilities can be used.\n",
      "t:\\LangGraph\\Langchain_Acadmy_Course_on_LangGraph\\.venv\\Lib\\site-packages\\huggingface_hub\\file_download.py:143: UserWarning: `huggingface_hub` cache-system uses symlinks by default to efficiently store duplicated files but your machine does not support them in C:\\Users\\Acer\\.cache\\huggingface\\hub\\models--gpt2. Caching files will still work but in a degraded version that might require more space on your disk. This warning can be disabled by setting the `HF_HUB_DISABLE_SYMLINKS_WARNING` environment variable. For more details, see https://huggingface.co/docs/huggingface_hub/how-to-cache#limitations.\n",
      "To support symlinks on Windows, you either need to activate Developer Mode or to run Python as an administrator. In order to activate developer mode, see this article: https://docs.microsoft.com/en-us/windows/apps/get-started/enable-your-device-for-development\n",
      "  warnings.warn(message)\n",
      "Token indices sequence length is longer than the specified maximum sequence length for this model (1964 > 1024). Running this sequence through the model will result in indexing errors\n"
     ]
    },
    {
     "data": {
      "text/plain": [
       "[HumanMessage(content='Tell me where Orcas live!', additional_kwargs={}, response_metadata={}, name='Lance')]"
      ]
     },
     "execution_count": 16,
     "metadata": {},
     "output_type": "execute_result"
    }
   ],
   "source": [
    "trim_messages(\n",
    "            messages,\n",
    "            max_tokens=100,\n",
    "            strategy=\"last\",\n",
    "            token_counter=ChatGroq(model=\"deepseek-r1-distill-llama-70b\"),\n",
    "            allow_partial=False\n",
    "        )"
   ]
  },
  {
   "cell_type": "code",
   "execution_count": 17,
   "id": "18fe206d",
   "metadata": {},
   "outputs": [],
   "source": [
    "messages_out_trim = graph.invoke({'messages': messages})"
   ]
  },
  {
   "cell_type": "code",
   "execution_count": null,
   "id": "7abf66e8",
   "metadata": {},
   "outputs": [
    {
     "data": {
      "text/plain": [
       "{'messages': [AIMessage(content='Hi.', additional_kwargs={}, response_metadata={}, name='Bot', id='1'),\n",
       "  HumanMessage(content='Hi.', additional_kwargs={}, response_metadata={}, name='Lance', id='2'),\n",
       "  AIMessage(content='So you said you were researching ocean mammals?', additional_kwargs={}, response_metadata={}, name='Bot', id='3'),\n",
       "  HumanMessage(content='Yes, I know about whales. But what others should I learn about?', additional_kwargs={}, response_metadata={}, name='Lance', id='4'),\n",
       "  AIMessage(content='<think>\\nOkay, so the user mentioned they know about whales but are asking what other ocean mammals they should learn about. I need to provide a comprehensive yet concise list. \\n\\nFirst, I should think about the different categories of marine mammals. There are cetaceans beyond whales, like dolphins and porpoises. Then pinnipeds, which include seals, sea lions, and walruses. Manatees and dugongs are sirenians. There\\'s also the extinct Steller\\'s sea cow. Maybe include some others like otters and the extinct Desmostylia.\\n\\nI should list each with a brief description, maybe a fun fact or key characteristic to make it interesting. I should also mention why learning about them is important, like conservation or unique adaptations.\\n\\nI need to structure it clearly, perhaps using bullet points or sections. Make sure the information is accurate and up-to-date. Also, keep the language friendly and engaging to encourage the user\\'s curiosity.\\n\\nI should also consider if the user is a student, researcher, or just someone with a casual interest. Since they asked for others beyond whales, they might be looking to broaden their knowledge, so providing a variety of examples would be helpful.\\n\\nI should avoid making the response too technical but still informative. Maybe suggest why each animal is interesting or important. Also, perhaps touch on their habitats and any conservation issues they face, as that adds depth.\\n\\nFinally, I should summarize the main points and encourage the user to explore further, maybe by suggesting starting points or highlighting which ones are most critical to understand the diversity of marine mammals.\\n</think>\\n\\nThat\\'s great! Whales are fascinating creatures, but there are many other ocean mammals worth learning about. Here are some key ones to explore:\\n\\n### 1. **Dolphins and Porpoises**  \\n   - **Dolphins** are highly intelligent, social marine mammals known for their playful behavior and advanced communication skills. They are closely related to whales and belong to the same order (Cetacea).  \\n   - **Porpoises** are smaller, more shy relatives of dolphins. They tend to avoid boats and are less commonly seen.  \\n\\n### 2. **Seals, Sea Lions, and Walruses**  \\n   - **Seals** (true seals) are fin-footed, streamlined swimmers with short flippers. They are more adapted to life in the water and can dive deeply.  \\n   - **Sea Lions** are also fin-footed but have longer flippers and are more agile on land. They are known for their ability to \"walk\" using their flippers.  \\n   - **Walruses** are large, tusked marine mammals that use their tusks for digging clams and hauling themselves out of the water.  \\n\\n### 3. **Manatees and Dugongs**  \\n   - **Manatees** are slow-moving, gentle herbivores found in shallow, warm waters, primarily in the Caribbean and Gulf of Mexico.  \\n   - **Dugongs** are similar to manatees but live in the Indo-Pacific region. They are also herbivores, feeding on sea grasses.  \\n\\n### 4. **Steller’s Sea Cow**  \\n   - This is an extinct species, but it\\'s worth learning about. Steller’s sea cows were massive marine mammals discovered in the 18th century. They were related to manatees and dugongs but were much larger. Unfortunately, they were hunted to extinction just 27 years after their discovery.  \\n\\n### 5. **Other Marine Mammals**  \\n   - **Marine Otters**: Some species of otters, like the sea otter, are adapted to life in the ocean. They are known for their incredibly thick fur and their use of tools (like rocks) to crack open shells.  \\n   - **Desmostylia**: This is an extinct group of marine mammals that were related to manatees and elephants. Their unique teeth and lifestyles make them an interesting topic for study.  \\n\\n### Why Learn About Ocean Mammals?  \\nOcean mammals are incredibly diverse, ranging from the tiny dwarf sperm whale to the massive blue whale. They play critical roles in marine ecosystems, from maintaining fish populations to helping regulate the ocean\\'s carbon cycle. Learning about them also highlights important conservation issues, such as overhunting, habitat loss, and climate change.  \\n\\nIf you\\'re just starting, I recommend diving into the biology, behavior, and conservation of dolphins and manatees. They are well-studied and have fascinating stories to tell!', additional_kwargs={}, response_metadata={'token_usage': {'completion_tokens': 933, 'prompt_tokens': 29, 'total_tokens': 962, 'completion_time': 3.706947896, 'prompt_time': 0.011606533, 'queue_time': 0.047598677, 'total_time': 3.718554429}, 'model_name': 'deepseek-r1-distill-llama-70b', 'system_fingerprint': 'fp_76307ac09b', 'service_tier': 'on_demand', 'finish_reason': 'stop', 'logprobs': None}, id='run--7d58aea8-3a39-458b-9e1e-8fd4a51cdbfd-0', usage_metadata={'input_tokens': 29, 'output_tokens': 933, 'total_tokens': 962}),\n",
       "  HumanMessage(content='Tell me more about Narwhals!', additional_kwargs={}, response_metadata={}, name='Lance', id='11c9ac3a-f44b-42a7-99cb-3460df1e289b'),\n",
       "  AIMessage(content='<think>\\nAlright, so I want to learn more about narwhals. I\\'ve heard they\\'re called the unicorns of the sea because of their tusks, but I\\'m not entirely sure why. Let me try to piece this together.\\n\\nFirst off, I know narwhals are whales, but they\\'re different from the whales I usually see pictures of. They must live in a specific environment. I remember hearing that polar regions are their habitat, so probably the Arctic areas. That makes sense because they have a thick layer of fat to keep warm, which I think is called blubber.\\n\\nNow, the tusk. I\\'ve seen images where narwhals have this long, spiraled tusk sticking out of their head. I\\'m not sure if it\\'s a horn or a tooth. I think it\\'s actually a tooth, maybe a modified one. I\\'ve heard conflicting things about whether the tusk is used for breaking ice, attracting mates, or maybe even sensing the environment. I\\'m not sure which is correct. I should look into that.\\n\\nI also recall that not all narwhals have tusks. I think it\\'s usually the males that have them, but sometimes females do too. Maybe it\\'s a sexual characteristic, used to impress females or fight with other males. But I\\'m not certain.\\n\\nTheir diet must consist of Arctic prey. I\\'m guessing they eat fish, maybe some squid or other deep-sea creatures. They probably hunt in the deep waters but surface to breathe. I\\'m not sure how they hunt, though. Do they use echolocation like dolphins, or is it different?\\n\\nI\\'m curious about their social structure. Do they live in pods like orcas or other whales? I imagine they might travel in groups to protect themselves and hunt more effectively. How big are these pods? Are they usually small or can they be large?\\n\\nConservation status is another area I\\'m unsure about. Are narwhals endangered? I know many Arctic species are affected by climate change, so maybe they\\'re vulnerable. I should check if they\\'re protected by any international laws or agreements.\\n\\nTheir lifespan is something I don\\'t know. I suppose it\\'s similar to other whales, maybe a few decades. But I\\'m not certain about the exact numbers.\\n\\nI\\'m also interested in cultural aspects. How do narwhals feature in Inuit legends? I think they\\'re part of some myths, maybe related to unicorns since their tusks were sometimes sold as unicorn horns in the past.\\n\\nOh, and their size. How big do narwhals get? I know they\\'re not as large as blue whales, but are they medium-sized? Maybe around 15-16 feet long? I\\'m not sure about their weight either.\\n\\nSwimming speed and depth must be important for their survival. Can they dive deep into the ocean? I think they might be capable of deep dives to catch prey, but I don\\'t know the specifics.\\n\\nIn terms of behavior, are they migratory? They probably move with the ice floes as the seasons change. Do they have specific migration patterns? I\\'m not sure how they adapt to the changing ice conditions, especially with climate change affecting sea ice.\\n\\nI\\'m also wondering about their predators. Who would prey on a narwhal? Maybe orcas or polar bears? I\\'m not certain.\\n\\nTo sum up, I need to find more accurate information on their habitat, the tusk\\'s purpose, diet, social behavior, conservation status, lifespan, cultural significance, size, swimming abilities, migration patterns, and predators.\\n\\nI should probably start by looking up each of these topics one by one to get a comprehensive understanding. Maybe start with the tusk since it\\'s their most distinctive feature. Then move on to their habitat and behavior. Checking reliable sources like National Geographic or scientific journals would help ensure the information is accurate.\\n\\nI might also look into documentaries or educational videos that feature narwhals. Observing their behavior in their natural habitat could provide insights that aren\\'t as clear from just reading.\\n\\nI should also consider how climate change is affecting narwhals. Since they depend on sea ice, any changes in ice coverage could impact their survival. Are there conservation efforts in place to protect them? What organizations are involved?\\n\\nUnderstanding their role in the ecosystem is important too. As apex predators, they probably play a key role in maintaining the balance of marine life in the Arctic.\\n\\nI\\'m also curious about any unique behaviors or adaptations they have. For example, how do they communicate? Do they use specific sounds or clicks? How do they navigate in the dark Arctic winters?\\n\\nLastly, I should look into any recent research or studies on narwhals. Science is always evolving, and there might be new discoveries about their behavior, physiology, or population dynamics that I\\'m not aware of.\\n\\nBy systematically researching each aspect, I can build a well-rounded understanding of narwhals and their place in the Arctic ecosystem.\\n</think>\\n\\n**Narwhals: A Comprehensive Overview**\\n\\n**Introduction:**\\nNarwhals, often referred to as the \"unicorns of the sea,\" are unique Arctic whales known for their distinctive tusks. This overview delves into their biology, behavior, and ecological significance, providing a detailed understanding of these intriguing creatures.\\n\\n**Physical Characteristics and Tusk:**\\n- **Tusk:** The most notable feature of narwhals is their long, spiraled tusk, which is actually a modified left tooth that protrudes from the upper jaw. Typically found in males, though occasionally in females, the tusk can reach up to 10 feet (3 meters) in length. Its purpose is multifaceted: used for breaking ice, attracting mates, and possibly sensing the environment. It may also serve as a tool for social interaction and fighting among males.\\n\\n**Habitat and Environment:**\\n- **Arctic Regions:** Narwhals inhabit the Arctic waters of Canada, Greenland, and Russia. They prefer areas with heavy sea ice, using it as a platform for resting and feeding. Their thick layer of blubber ensures they remain insulated in freezing temperatures.\\n\\n**Diet and Foraging:**\\n- **Prey:** Narwhals primarily consume deep-sea fish, such as Arctic cod, and occasionally squid and shrimp. They hunt in deep waters, typically between 700-1,500 meters, using echolocation to navigate and find prey.\\n\\n**Social Structure:**\\n- **Pods:** They are social creatures, often traveling in small pods of 10-100 individuals. These groups provide protection and enhance hunting efficiency.\\n\\n**Conservation Status:**\\n- **Vulnerability:** Listed as \"Vulnerable\" on the IUCN Red List, narwhals are threatened by climate change, which affects sea ice coverage. They are protected under international agreements, including the Marine Mammal Protection Act and the International Whaling Commission.\\n\\n**Lifespan and Size:**\\n- **Lifespan:** Narwhals can live for about 30-50 years.\\n- **Size:** Adults typically range from 13-16 feet (4-4.9 meters) in length and weigh between 2,600-3,500 pounds (1,180-1,590 kilograms).\\n\\n**Swimming and Diving:**\\n- **Depth and Speed:** Capable of deep dives, reaching depths of 1,500 meters, and can swim at speeds of up to 35 miles per hour (56 kilometers per hour).\\n\\n**Migration and Behavior:**\\n- **Migration:** Narwhals migrate seasonally with ice floes, adapting to changing ice conditions. They are well-suited to Arctic life, with a circulatory system that prevents ice formation in their blood.\\n\\n**Predators and Threats:**\\n- **Predation:** Potential predators include orcas, polar bears, and Greenland sharks. Human activities, such as hunting and climate change, pose significant threats.\\n\\n**Cultural Significance:**\\n- **Mythology:** In Inuit culture, narwhals feature in legends, with their tusks sometimes used in traditional tools. Historically, their tusks were sold as \"unicorn horns\" in European markets.\\n\\n**Ecological Role:**\\n- **Ecosystem Balance:** As apex predators, narwhals play a crucial role in maintaining the balance of Arctic marine ecosystems.\\n\\n**Research and Conservation:**\\n- **Climate Impact:** Research indicates that narwhals are vulnerable to the impacts of climate change, particularly the reduction of sea ice. Conservation efforts focus on protecting their habitat and reducing human impacts.\\n\\n**Unique Behaviors and Adaptations:**\\n- **Communication:** Narwhals use clicks, whistles, and pulsed calls for communication and echolocation.\\n- **Navigation:** They navigate using echolocation, which is crucial in dark Arctic environments.\\n\\n**Conclusion:**\\nNarwhals are fascinating creatures with unique adaptations to Arctic life. Their tusk, social behavior, and ecological role make them a vital part of the marine ecosystem. However, their vulnerability to climate change underscores the need for continued conservation efforts to protect these marine unicorns.', additional_kwargs={}, response_metadata={'token_usage': {'completion_tokens': 1841, 'prompt_tokens': 11, 'total_tokens': 1852, 'completion_time': 7.282357438, 'prompt_time': 0.010323764, 'queue_time': 0.047978525, 'total_time': 7.292681202}, 'model_name': 'deepseek-r1-distill-llama-70b', 'system_fingerprint': 'fp_76307ac09b', 'service_tier': 'on_demand', 'finish_reason': 'stop', 'logprobs': None}, id='run--6156c0a7-16d8-4b6f-adb5-3576c0227e3f-0', usage_metadata={'input_tokens': 11, 'output_tokens': 1841, 'total_tokens': 1852}),\n",
       "  HumanMessage(content='Tell me where Orcas live!', additional_kwargs={}, response_metadata={}, name='Lance', id='168fd440-7fe6-4afa-ad2a-25a453f9532a'),\n",
       "  AIMessage(content=\"<think>\\nOkay, so I need to figure out where orcas live. I remember orcas are also called killer whales, but I'm not entirely sure if they're whales or dolphins. I think they're actually dolphins, but they're the largest ones. Anyway, I need to find out their habitats.\\n\\nI know orcas live in the ocean, but I'm not sure which parts. Maybe they're in cold waters? I've heard about them being in the Arctic, but I'm not certain. Also, maybe they're in the Pacific Northwest, like near Seattle or something. I think there are some famous orca pods there.\\n\\nWait, but do they live in other oceans too? Like the Atlantic or the Southern Ocean? I'm not sure. I think they might be found in all the world's oceans, but maybe they prefer certain areas. Maybe they like both cold and warmer waters?\\n\\nI remember hearing that orcas are social and live in pods. So their location might depend on where their food is. They eat fish, seals, maybe even other whales. So if their prey is in a certain area, orcas would be there too. That makes sense.\\n\\nI'm not sure about the specifics of their distribution. Maybe they're migratory? Or maybe some populations stay in one area all year. I'm a bit confused about that. Also, are there any orcas in captivity? I know some are in aquariums or sea parks, but that's not their natural habitat.\\n\\nSo, to sum up, I think orcas live in all the world's oceans, from the Arctic to the Antarctic, and in every ocean in between. They can be in both cold and warm waters. They might prefer coastal areas or open seas depending on their food sources. They're probably found in places like the Pacific Northwest, the Arctic regions, and other oceans globally. I'm not 100% sure about all the details, but I think that's the general idea.\\n</think>\\n\\nOrcas, also known as killer whales, are found in all the world's oceans, ranging from the Arctic to the Antarctic, and every ocean in between. They inhabit both cold and warm waters, adapting to various marine environments. Their distribution is influenced by their prey, leading them to areas where fish, seals, and other marine mammals are abundant. While they can be found in both coastal regions and open seas, specific populations may migrate or remain in consistent areas depending on food availability. Notably, they are well-known in the Pacific Northwest, where distinct pods are observed. Additionally, some orcas are found in captivity in aquariums and sea parks, though this is not their natural habitat.\", additional_kwargs={}, response_metadata={'token_usage': {'completion_tokens': 543, 'prompt_tokens': 10, 'total_tokens': 553, 'completion_time': 2.312985915, 'prompt_time': 0.010131498, 'queue_time': 0.044393732, 'total_time': 2.323117413}, 'model_name': 'deepseek-r1-distill-llama-70b', 'system_fingerprint': 'fp_1bbe7845ec', 'service_tier': 'on_demand', 'finish_reason': 'stop', 'logprobs': None}, id='run--ed6427f9-7391-40d5-b733-f670565c0e3e-0', usage_metadata={'input_tokens': 10, 'output_tokens': 543, 'total_tokens': 553})]}"
      ]
     },
     "execution_count": 18,
     "metadata": {},
     "output_type": "execute_result"
    },
    {
     "ename": "",
     "evalue": "",
     "output_type": "error",
     "traceback": [
      "\u001b[1;31mThe Kernel crashed while executing code in the current cell or a previous cell. \n",
      "\u001b[1;31mPlease review the code in the cell(s) to identify a possible cause of the failure. \n",
      "\u001b[1;31mClick <a href='https://aka.ms/vscodeJupyterKernelCrash'>here</a> for more info. \n",
      "\u001b[1;31mView Jupyter <a href='command:jupyter.viewOutput'>log</a> for further details."
     ]
    }
   ],
   "source": [
    "messages_out_trim"
   ]
  },
  {
   "cell_type": "code",
   "execution_count": null,
   "id": "a67bb472",
   "metadata": {},
   "outputs": [],
   "source": []
  }
 ],
 "metadata": {
  "kernelspec": {
   "display_name": ".venv",
   "language": "python",
   "name": "python3"
  },
  "language_info": {
   "codemirror_mode": {
    "name": "ipython",
    "version": 3
   },
   "file_extension": ".py",
   "mimetype": "text/x-python",
   "name": "python",
   "nbconvert_exporter": "python",
   "pygments_lexer": "ipython3",
   "version": "3.13.3"
  }
 },
 "nbformat": 4,
 "nbformat_minor": 5
}

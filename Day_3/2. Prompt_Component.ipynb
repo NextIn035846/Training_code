{
 "cells": [
  {
   "cell_type": "markdown",
   "id": "834f92eb",
   "metadata": {},
   "source": [
    "## Prompt\n",
    "A LangChain prompt template is a reusable way to build prompts for language models. It gives you a clear structure to follow, while making it easy to customize prompts and save time.\n",
    "\n",
    "LangChain’s templates help keep your prompts consistent, and make the model’s answers more predictable and reliable. Over time, they also improve results by reducing randomness in how prompts are written.\n",
    "\n",
    "A prompt template usually consists of two things:\n",
    "\n",
    "1. A text prompt, which is just a chunk of natural language. It can be plain text, or it can have placeholders like {variable} that get filled in with real values when you use it.\n",
    "\n",
    "2. Optional formatting rules, so you can control how the final prompt looks, like whether text should be bold, in all caps, or styled a certain way."
   ]
  },
  {
   "cell_type": "markdown",
   "id": "d2559069",
   "metadata": {},
   "source": [
    "## 3 Types of LangChain Prompt Templates\n",
    "LangChain offers different template classes:\n",
    "\n",
    "- String PromptTemplate for creating basic prompts.\n",
    "- ChatPromptTemplate for chat-based prompts with multiple messages.\n",
    "- MessagesPlaceholder for injecting a dynamic list of messages (such as a conversation history)."
   ]
  },
  {
   "cell_type": "markdown",
   "id": "8083ee24",
   "metadata": {},
   "source": [
    "### PromptTemplate: Simple String-Based Prompts\n",
    "These prompt templates are used to format a single string, and generally are used for simpler inputs. "
   ]
  },
  {
   "cell_type": "code",
   "execution_count": 2,
   "id": "2c2294e5",
   "metadata": {},
   "outputs": [
    {
     "name": "stdout",
     "output_type": "stream",
     "text": [
      "Share an interesting fact about octopus.\n"
     ]
    }
   ],
   "source": [
    "from langchain_core.prompts import PromptTemplate\n",
    "\n",
    "example_prompt = PromptTemplate.from_template(\"Share an interesting fact about {animal}.\")  # infers 'animal' as input variable\n",
    "\n",
    "# Format the template with a specific animal\n",
    "filled_prompt = example_prompt.format(animal=\"octopus\")\n",
    "print(filled_prompt)\n",
    "\n"
   ]
  },
  {
   "cell_type": "markdown",
   "id": "67f13052",
   "metadata": {},
   "source": [
    "### ChatPromptTemplate: Chat-Style Prompt with Roles\n",
    "These prompt templates are used to format a list of messages. These \"templates\" consist of a list of templates themselves."
   ]
  },
  {
   "cell_type": "code",
   "execution_count": 3,
   "id": "c1f8f1ff",
   "metadata": {},
   "outputs": [
    {
     "name": "stdout",
     "output_type": "stream",
     "text": [
      "[SystemMessage(content='You are a patient tutor who explains things clearly.', additional_kwargs={}, response_metadata={}), HumanMessage(content=\"Can you explain gravity like I'm five?\", additional_kwargs={}, response_metadata={})]\n"
     ]
    }
   ],
   "source": [
    "from langchain_core.prompts import ChatPromptTemplate\n",
    "\n",
    "chat_prompt = ChatPromptTemplate.from_messages([\n",
    "    (\"system\", \"You are a patient tutor who explains things clearly.\"),\n",
    "    (\"human\", \"Can you explain {concept} like I'm five?\")\n",
    "])\n",
    "\n",
    "# Fill in the template with a specific concept\n",
    "formatted_messages = chat_prompt.format_messages(concept=\"gravity\")\n",
    "\n",
    "print(formatted_messages)"
   ]
  },
  {
   "cell_type": "code",
   "execution_count": 2,
   "id": "5159ab4b",
   "metadata": {},
   "outputs": [
    {
     "name": "stdout",
     "output_type": "stream",
     "text": [
      "<think>\n",
      "Okay, the user is asking about the symptoms of the flu. Let me start by recalling the common flu symptoms. The main ones include fever, cough, sore throat, runny or stuffy nose, muscle or body aches, headaches, fatigue, and sometimes vomiting or diarrhea, especially in kids. I should probably list these out clearly.\n",
      "\n",
      "Wait, the user might be differentiating between a cold and the flu. I should mention that the flu tends to come on more suddenly and is more severe than a cold. Also, fever is a key differentiator. Oh, and it's important to note that not everyone with the flu will have a fever, but it's common.\n",
      "\n",
      "I should also think about when to see a doctor. Severe symptoms like difficulty breathing, chest pain, or persistent vomiting are red flags. Maybe include that advice as well.\n",
      "\n",
      "Let me check if there's anything else. The flu can lead to complications like pneumonia, so highlighting the importance of rest and hydration is good. Also, maybe mention the duration—symptoms usually last 5-7 days but fatigue can linger.\n",
      "\n",
      "Make sure the language is simple and easy to understand. Avoid medical jargon. Organize the symptoms into a list for clarity. And remind the user that if they're concerned, they should consult a healthcare professional.\n",
      "</think>\n",
      "\n",
      "Certainly! The **flu (influenza)** is a viral infection that affects the respiratory system and often causes more severe symptoms than a common cold. Here are the **common symptoms of the flu**:\n",
      "\n",
      "### Typical Symptoms:\n",
      "- **Fever** (often high, 100°F/38°C or higher) – though not everyone with the flu has a fever.\n",
      "- **Chills** and **sweating**.\n",
      "- **Cough** (often dry).\n",
      "- **Sore throat**.\n",
      "- **Runny or stuffy nose**.\n",
      "- **Muscle or body aches** (especially in the back, arms, and legs).\n",
      "- **Headache** (often severe).\n",
      "- **Fatigue or weakness** (can last up to 2 weeks).\n",
      "- **Loss of appetite**.\n",
      "\n",
      "### Less Common Symptoms:\n",
      "- **Nausea, vomiting, or diarrhea** (more common in children than adults).\n",
      "\n",
      "---\n",
      "\n",
      "### Key Differences from a Cold:\n",
      "- The flu **comes on suddenly**, while cold symptoms develop gradually.\n",
      "- Flu symptoms are **more severe**, especially body aches, fever, and fatigue.\n",
      "- Colds rarely cause fever or body aches.\n",
      "\n",
      "---\n",
      "\n",
      "### When to Seek Medical Attention:\n",
      "- **Difficulty breathing or shortness of breath**.\n",
      "- **Chest pain or pressure**.\n",
      "- **Severe dizziness or confusion**.\n",
      "- **Persistent vomiting**.\n",
      "- **Worsening symptoms** after initial improvement (could signal a secondary infection like pneumonia).\n",
      "- **High-risk groups** (children under 5, adults over 65, pregnant individuals, or those with chronic illnesses) should consult a doctor early.\n",
      "\n",
      "---\n",
      "\n",
      "### Self-Care Tips:\n",
      "- **Rest** and stay hydrated.\n",
      "- Use over-the-counter medications for symptoms (e.g., acetaminophen/ibuprofen for fever/body aches).\n",
      "- Avoid spreading the virus (stay home, wash hands, cover coughs).\n",
      "- **Antiviral medications** (like oseltamivir) may be prescribed within 48 hours of symptom onset for severe cases.\n",
      "\n",
      "If you're unsure about your symptoms or have underlying health conditions, consult a healthcare provider for personalized advice. Let me know if you’d like more details! 🌟\n"
     ]
    }
   ],
   "source": [
    "## Chat Completion Model\n",
    "from langchain_core.prompts import ChatPromptTemplate\n",
    "from langchain_groq import ChatGroq\n",
    "\n",
    "chatmodel = ChatGroq(model=\"qwen/qwen3-32b\")\n",
    "\n",
    "Chat_template = ChatPromptTemplate.from_messages(\n",
    "    [\n",
    "        (\"system\", \"you are an {profession} expert on {topic}\"),\n",
    "        (\"human\", \"Hello, Mr.{profession} can you please answer a question ?\"),\n",
    "        ('ai', \"Sure, I'd be happy to help!\"),\n",
    "        (\"human\", \"{user_input}\"),\n",
    "    ]\n",
    ")\n",
    "\n",
    "message = Chat_template.format(\n",
    "    profession=\"doctor\",\n",
    "    topic=\"healthcare\",\n",
    "    user_input=\"What are the symptoms of flu?\"\n",
    ")\n",
    "\n",
    "llm = ChatGroq(model=\"qwen/qwen3-32b\")\n",
    "llm_model_prompt = message\n",
    "\n",
    "print(llm.invoke(llm_model_prompt).content)\n"
   ]
  },
  {
   "cell_type": "markdown",
   "id": "f561b404",
   "metadata": {},
   "source": [
    "### MessagesPlaceholder: Inserting Dynamic Chat History into a Prompt"
   ]
  },
  {
   "cell_type": "code",
   "execution_count": null,
   "id": "9d7ed625",
   "metadata": {},
   "outputs": [
    {
     "name": "stdout",
     "output_type": "stream",
     "text": [
      "[SystemMessage(content='You are a helpful career coach.', additional_kwargs={}, response_metadata={}), HumanMessage(content='How do I prepare for a job interview?', additional_kwargs={}, response_metadata={}), AIMessage(content='Start by researching the company and practicing common questions.', additional_kwargs={}, response_metadata={}), HumanMessage(content='Should I send a thank-you email afterward?', additional_kwargs={}, response_metadata={})]\n"
     ]
    },
    {
     "ename": "",
     "evalue": "",
     "output_type": "error",
     "traceback": [
      "\u001b[1;31mThe Kernel crashed while executing code in the current cell or a previous cell. \n",
      "\u001b[1;31mPlease review the code in the cell(s) to identify a possible cause of the failure. \n",
      "\u001b[1;31mClick <a href='https://aka.ms/vscodeJupyterKernelCrash'>here</a> for more info. \n",
      "\u001b[1;31mView Jupyter <a href='command:jupyter.viewOutput'>log</a> for further details."
     ]
    }
   ],
   "source": [
    "from langchain_core.prompts import ChatPromptTemplate, MessagesPlaceholder\n",
    "from langchain_core.messages import HumanMessage, AIMessage\n",
    "\n",
    "chat_prompt = ChatPromptTemplate.from_messages([\n",
    "    (\"system\", \"You are a helpful career coach.\"),\n",
    "    MessagesPlaceholder(\"conversation\"),  # Dynamic history insertion\n",
    "    (\"human\", \"{current_question}\")\n",
    "])\n",
    "\n",
    "# Define history using proper message objects\n",
    "conversation_history = [\n",
    "    HumanMessage(content=\"How do I prepare for a job interview?\"),\n",
    "    AIMessage(content=\"Start by researching the company and practicing common questions.\")\n",
    "]\n",
    "\n",
    "formatted_messages = chat_prompt.format_messages(\n",
    "    conversation=conversation_history,\n",
    "    current_question=\"Should I send a thank-you email afterward?\"\n",
    ")\n",
    "\n",
    "print(formatted_messages)"
   ]
  },
  {
   "cell_type": "markdown",
   "id": "05c98137",
   "metadata": {},
   "source": [
    "### Few Shot Prompting \n",
    "providing clear and effective instructions is paramount to achieving desired outcomes. \"Few-shot prompting\" is a powerful technique that guides an LLM by giving it a small number of examples of the task you want it to perform. This approach helps the model understand the context and desired output format, often leading to significantly better and more consistent results."
   ]
  },
  {
   "cell_type": "code",
   "execution_count": 1,
   "id": "994d93cc",
   "metadata": {},
   "outputs": [
    {
     "name": "stdout",
     "output_type": "stream",
     "text": [
      "Provide the antonym for the given word:\n",
      "\n",
      "Word: happy\n",
      "Antonym: sad\n",
      "\n",
      "Word: tall\n",
      "Antonym: short\n",
      "\n",
      "Word: big\n",
      "Antonym:\n"
     ]
    }
   ],
   "source": [
    "from langchain_core.prompts import FewShotPromptTemplate, PromptTemplate\n",
    "\n",
    "# Define the examples\n",
    "examples = [\n",
    "    {\"word\": \"happy\", \"antonym\": \"sad\"},\n",
    "    {\"word\": \"tall\", \"antonym\": \"short\"},\n",
    "]\n",
    "\n",
    "# Define the prompt for a single example\n",
    "example_prompt = PromptTemplate(\n",
    "    input_variables=[\"word\", \"antonym\"],\n",
    "    template=\"Word: {word}\\nAntonym: {antonym}\"\n",
    ")\n",
    "\n",
    "# Create the FewShotPromptTemplate\n",
    "few_shot_prompt = FewShotPromptTemplate(\n",
    "    examples=examples,\n",
    "    example_prompt=example_prompt,\n",
    "    prefix=\"Provide the antonym for the given word:\",\n",
    "    suffix=\"Word: {input}\\nAntonym:\",\n",
    "    input_variables=[\"input\"],\n",
    "    example_separator=\"\\n\\n\"\n",
    ")\n",
    "\n",
    "# Format the prompt with a new input\n",
    "formatted_prompt = few_shot_prompt.format(input=\"big\")\n",
    "print(formatted_prompt)"
   ]
  },
  {
   "cell_type": "code",
   "execution_count": null,
   "id": "176678d3",
   "metadata": {},
   "outputs": [
    {
     "data": {
      "text/plain": [
       "\"<think>\\nOkay, the user is asking again about the symptoms of the flu. Let me see what they previously asked. Earlier, they asked the same question and I responded that common symptoms include fever, cough, and body aches. Now they're asking the same thing again.\\n\\nHmm, maybe they want more details this time or perhaps they didn't get all the information they needed. I should check if there's a nuance in their question. The user might be looking for a more comprehensive list or want to know about less common symptoms. Let me recall the flu symptoms thoroughly.\\n\\nThe flu typically presents with fever, which is a high one, often above 100.4°F. Then there's the cough, which can be dry or productive. Body aches are indeed common, sometimes severe. They might also experience chills, which weren't mentioned before. Other symptoms include sore throat, runny or stuffy nose, fatigue, and sometimes headaches. Gastrointestinal symptoms like nausea, vomiting, or diarrhea can occur, especially in children. \\n\\nWait, in my previous answer, I mentioned fever, cough, and body aches. Now the user is asking again, maybe they want a more detailed list. I should make sure to include all the common symptoms and note that some people might not get a fever. Also, it's important to differentiate between flu and a common cold since symptoms can overlap. \\n\\nI should structure the response clearly, list the main symptoms, maybe mention that symptoms come on suddenly, and note any additional points like contagiousness. Let me double-check medical sources to confirm. Yes, the CDC lists those symptoms. Also, it's good to mention that severe cases can lead to complications like pneumonia. \\n\\nSo, the user might be trying to assess if they or someone they know has the flu. They need a thorough but concise answer. I'll present the main symptoms, some additional ones, and maybe a note on when to seek medical help. Let me make sure the response is accurate and helpful without being redundant. Alright, time to put it all together.\\n</think>\\n\\nThe flu (influenza) typically causes symptoms such as:  \\n- **Fever or chills** (often high fever, 100.4°F/38°C or higher)  \\n- **Cough** (dry or productive)  \\n- **Sore throat**  \\n- **Muscle or body aches** (often severe)  \\n- **Fatigue or weakness**  \\n- **Headaches**  \\n- **Runny or stuffy nose** (less common than in colds)  \\n- **Nausea, vomiting, or diarrhea** (more common in children)  \\n\\nSymptoms usually appear **suddenly** (unlike colds) and can range from mild to severe. In rare cases, complications like pneumonia or hospitalization may occur. If symptoms are severe or persistent, seek medical attention.\""
      ]
     },
     "execution_count": 5,
     "metadata": {},
     "output_type": "execute_result"
    },
    {
     "ename": "",
     "evalue": "",
     "output_type": "error",
     "traceback": [
      "\u001b[1;31mThe Kernel crashed while executing code in the current cell or a previous cell. \n",
      "\u001b[1;31mPlease review the code in the cell(s) to identify a possible cause of the failure. \n",
      "\u001b[1;31mClick <a href='https://aka.ms/vscodeJupyterKernelCrash'>here</a> for more info. \n",
      "\u001b[1;31mView Jupyter <a href='command:jupyter.viewOutput'>log</a> for further details."
     ]
    }
   ],
   "source": [
    "from langchain_core.prompts import FewShotChatMessagePromptTemplate\n",
    "examples = [\n",
    "    {\"input\": \"What are the symptoms of flu?\", \"output\": \"Common symptoms include fever, cough, and body aches.\"},\n",
    "    {\"input\": \"How can I prevent the flu?\", \"output\": \"Get vaccinated and practice good hygiene.\"},\n",
    "]\n",
    "\n",
    "example_prompt = ChatPromptTemplate.from_messages(\n",
    "    [\n",
    "        (\"human\", \"{input}\"),\n",
    "        (\"ai\", \"{output}\"),\n",
    "    ]\n",
    ")\n",
    "\n",
    "few_shot_prompt = FewShotChatMessagePromptTemplate(\n",
    "    example_prompt=example_prompt,\n",
    "    examples=examples\n",
    ")\n",
    "\n",
    "final_prompt = ChatPromptTemplate.from_messages(\n",
    "    [   (\"system\", \"You are a helpful assistant.\"),\n",
    "        few_shot_prompt,\n",
    "        (\"human\", \"{input}\"),\n",
    "    ]\n",
    ")\n",
    "\n",
    "llm = ChatGroq(model=\"qwen/qwen3-32b\")\n",
    "llm.invoke(final_prompt.format(input=\"What are the symptoms of flu?\")).content"
   ]
  },
  {
   "cell_type": "code",
   "execution_count": null,
   "id": "8a7d3fb8",
   "metadata": {},
   "outputs": [],
   "source": []
  }
 ],
 "metadata": {
  "kernelspec": {
   "display_name": ".venv",
   "language": "python",
   "name": "python3"
  },
  "language_info": {
   "codemirror_mode": {
    "name": "ipython",
    "version": 3
   },
   "file_extension": ".py",
   "mimetype": "text/x-python",
   "name": "python",
   "nbconvert_exporter": "python",
   "pygments_lexer": "ipython3",
   "version": "3.13.3"
  }
 },
 "nbformat": 4,
 "nbformat_minor": 5
}

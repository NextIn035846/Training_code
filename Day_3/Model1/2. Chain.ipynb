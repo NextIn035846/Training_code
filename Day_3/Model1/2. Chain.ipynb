{
 "cells": [
  {
   "cell_type": "markdown",
   "id": "c3bb3eab",
   "metadata": {},
   "source": [
    "# Chain\n",
    "\n",
    "## Review\n",
    "\n",
    "We built a simple graph with nodes, normal edges, and conditional edges.\n",
    "\n",
    "## Goals\n",
    "\n",
    "Now, let's build up to a simple chain that combines 4 [concepts](https://python.langchain.com/v0.2/docs/concepts/):\n",
    "\n",
    "* Using [chat messages](https://python.langchain.com/v0.2/docs/concepts/#messages) as our graph state\n",
    "* Using [chat models](https://python.langchain.com/v0.2/docs/concepts/#chat-models) in graph nodes\n",
    "* [Binding tools](https://python.langchain.com/v0.2/docs/concepts/#tools) to our chat model\n",
    "* [Executing tool calls](https://python.langchain.com/v0.2/docs/concepts/#functiontool-calling) in graph nodes \n",
    "\n",
    "![Screenshot 2024-08-21 at 9.24.03 AM.png](https://cdn.prod.website-files.com/65b8cd72835ceeacd4449a53/66dbab08dd607b08df5e1101_chain1.png)"
   ]
  },
  {
   "cell_type": "markdown",
   "id": "efca4312",
   "metadata": {},
   "source": [
    "## Messages\n",
    "\n",
    "Chat models can use [`messages`](https://python.langchain.com/v0.2/docs/concepts/#messages), which capture different roles within a conversation. \n",
    "\n",
    "LangChain supports various message types, including `HumanMessage`, `AIMessage`, `SystemMessage`, and `ToolMessage`. \n",
    "\n",
    "These represent a message from the user, from chat model, for the chat model to instruct behavior, and from a tool call. \n",
    "\n",
    "#### Human Messagge:\n",
    "This represents a message from the end-user. It's the input that drives the conversation forward.\n",
    "\n",
    "- When to use: Use this for any prompt, question, or statement made by the human interacting with the AI. \n",
    "It's the most common message type you'll create.\n",
    "\n",
    "#### AIMessage:\n",
    "This represents a message from the AI model. It's the model's response in the conversation.\n",
    "\n",
    "- When to use: Use this for the model's direct replies to the user. It's also essential when creating \"few-shot\" examples to show the model how it should behave in a conversation.\n",
    "\n",
    "#### SystemMessage:\n",
    "This provides initial instructions, context, or constraints to the AI model. It sets the rules for the conversation but isn't part of the back-and-forth dialogue itself.\n",
    "\n",
    "- When to use: Use this at the beginning of a conversation to define the AI's persona, role, or task. It steers the model's behavior throughout the interaction.\n",
    "\n",
    "#### ToolMessage:\n",
    "This message holds the result or output from a tool call. Modern AI models can decide to use external tools (like a search engine or calculator), and this message is how you feed the result of that action back to the model.\n",
    "\n",
    "- When to use: This is used in a two-step process for agentic behavior:\n",
    "\n",
    "The AIMessage contains a tool_calls attribute, indicating the model wants to use a tool.\n",
    "\n",
    "You execute that tool in your code and then pass its output back to the model inside a ToolMessage so it can formulate a final answer.\n",
    "\n",
    "\n",
    "Let's create a list of messages. \n",
    "\n",
    "Each message can be supplied with a few things:\n",
    "\n",
    "* `content` - content of the message\n",
    "* `name` - optionally, a message author \n",
    "* `response_metadata` - optionally, a dict of metadata (e.g., often populated by model provider for `AIMessages`)"
   ]
  },
  {
   "cell_type": "code",
   "execution_count": 21,
   "id": "03379dec",
   "metadata": {},
   "outputs": [
    {
     "name": "stdout",
     "output_type": "stream",
     "text": [
      "==================================\u001b[1m Ai Message \u001b[0m==================================\n",
      "Name: Model\n",
      "\n",
      "So you said you were researching ocean mammals?\n",
      "================================\u001b[1m Human Message \u001b[0m=================================\n",
      "Name: Lance\n",
      "\n",
      "Yes, that's right.\n",
      "==================================\u001b[1m Ai Message \u001b[0m==================================\n",
      "Name: Model\n",
      "\n",
      "Great, what would you like to learn about.\n",
      "================================\u001b[1m Human Message \u001b[0m=================================\n",
      "Name: Lance\n",
      "\n",
      "I want to learn about the best place to see Orcas in the US.\n"
     ]
    }
   ],
   "source": [
    "from pprint import pprint\n",
    "from langchain_core.messages import AIMessage, HumanMessage\n",
    "\n",
    "messages = [AIMessage(content=f\"So you said you were researching ocean mammals?\", name=\"Model\")]\n",
    "messages.append(HumanMessage(content=f\"Yes, that's right.\",name=\"Lance\"))\n",
    "messages.append(AIMessage(content=f\"Great, what would you like to learn about.\", name=\"Model\"))\n",
    "messages.append(HumanMessage(content=f\"I want to learn about the best place to see Orcas in the US.\", name=\"Lance\"))\n",
    "\n",
    "for m in messages:\n",
    "    m.pretty_print()"
   ]
  },
  {
   "cell_type": "markdown",
   "id": "5956ba3c",
   "metadata": {},
   "source": [
    "## Chatmodel:\n",
    "Language models that use a sequence of messages as inputs and return chat messages as outputs (as opposed to using plain text). These are traditionally newer models (older models are generally LLMs). Chat models support the assignment of distinct roles to conversation messages, helping to distinguish messages from the AI, users, and instructions such as system messages."
   ]
  },
  {
   "cell_type": "code",
   "execution_count": 22,
   "id": "f510eec3",
   "metadata": {},
   "outputs": [],
   "source": [
    "import os \n",
    "from dotenv import load_dotenv\n",
    "from langchain_groq import ChatGroq\n",
    "\n",
    "load_dotenv()\n",
    "\n",
    "os.environ[\"GROQ_API_KEY\"] = os.getenv(\"GROQ_API_KEY\")\n",
    "\n",
    "LLM = ChatGroq(model= \"deepseek-r1-distill-llama-70b\")"
   ]
  },
  {
   "cell_type": "code",
   "execution_count": 23,
   "id": "81d68f13",
   "metadata": {},
   "outputs": [],
   "source": [
    "result = LLM.invoke(messages)"
   ]
  },
  {
   "cell_type": "code",
   "execution_count": 24,
   "id": "2c8f287e",
   "metadata": {},
   "outputs": [
    {
     "data": {
      "text/plain": [
       "AIMessage(content=\"<think>\\nAlright, the user mentioned they want to learn about the best place to see orcas in the US. I remember they were initially asking about ocean mammals, so this is a follow-up. \\n\\nI should consider where orcas are commonly found. The Pacific Northwest comes to mind, especially places like Washington State. Orcas are iconic there. \\n\\nPuget Sound is a hotspot, so mentioning San Juan Islands, Seattle, and Friday Harbor makes sense. I should include tips like visiting in summer for better sightings.\\n\\nAlaska is another great spot. Seward and Juneau are popular for whale watching tours. It's good to highlight the summer months there too.\\n\\nMonterey Bay in California is known for its marine life. Including that could be helpful for users on the West Coast. Plus, mentioning the migratory season adds value.\\n\\nHawaii isn't as known for orcas, but they can be spotted there. It’s a good alternative, especially for those interested in warmer locations.\\n\\nIncluding tips about responsible tourism is important. Users will appreciate knowing how to choose ethical tour operators.\\n\\nI should also add a friendly note encouraging them to ask more questions if they need help planning. Keeping it informative yet engaging is key.\\n</think>\\n\\nIf you're looking to see orcas (also known as killer whales) in the U.S., one of the best places is the Pacific Northwest, particularly in the waters around **Washington State** and **Alaska**. Here are some top spots:\\n\\n### 1. **Puget Sound, Washington**\\n   - **San Juan Islands**: This is one of the most famous places in the world to see orcas in their natural habitat. The resident orcas (Southern Resident killer whales) frequent these waters, especially during the summer months when salmon are abundant.\\n   - **Seattle Area**: You can take a whale-watching tour from Seattle or nearby towns like Friday Harbor. These tours often head into the San Juan Islands.\\n\\n### 2. **Alaska**\\n   - **Seward and Kenai Fjords**: Alaska is home to a large population of orcas. Take a whale-watching tour in the Kenai Fjords National Park or near Seward for a chance to see orcas, humpback whales, and other marine life.\\n   - **Juneau and the Inside Passage**: Another great spot for orca sightings, especially during the summer when humpback and orcas are active in these nutrient-rich waters.\\n\\n### 3. **Monterey Bay, California**\\n   - While orcas are less common here than in the Pacific Northwest, Monterey Bay is a hotspot for marine life. Orcas occasionally pass through the area, especially during the migration of gray whales or when feeding on seals and other prey.\\n\\n### 4. **Hawaii**\\n   - Orcas are less frequent in Hawaiian waters, but they do appear occasionally. If you're in Hawaii, keep an eye out during whale-watching tours, especially during the humpback whale migration season (December to May).\\n\\n### Tips for Seeing Orcas:\\n   - **Time of Year**: The best time to see orcas in the Pacific Northwest is during the summer and early fall when salmon are running.\\n   - **Whale-Watching Tours**: Join a guided tour with experienced captains who know where to find orcas.\\n   - **Responsible Tourism**: Choose tour operators that follow responsible wildlife viewing practices to avoid disturbing the animals.\\n\\nIf you're planning a trip, let me know, and I can help you with more specific recommendations!\", additional_kwargs={}, response_metadata={'token_usage': {'completion_tokens': 719, 'prompt_tokens': 49, 'total_tokens': 768, 'completion_time': 3.009343245, 'prompt_time': 0.017816621, 'queue_time': 0.051203739, 'total_time': 3.027159866}, 'model_name': 'deepseek-r1-distill-llama-70b', 'system_fingerprint': 'fp_1bbe7845ec', 'service_tier': 'on_demand', 'finish_reason': 'stop', 'logprobs': None}, id='run--14d24656-9602-4116-aa71-3a94b7d1e6d8-0', usage_metadata={'input_tokens': 49, 'output_tokens': 719, 'total_tokens': 768})"
      ]
     },
     "execution_count": 24,
     "metadata": {},
     "output_type": "execute_result"
    }
   ],
   "source": [
    "result"
   ]
  },
  {
   "cell_type": "code",
   "execution_count": 25,
   "id": "b2e145c5",
   "metadata": {},
   "outputs": [
    {
     "data": {
      "text/plain": [
       "{'token_usage': {'completion_tokens': 719,\n",
       "  'prompt_tokens': 49,\n",
       "  'total_tokens': 768,\n",
       "  'completion_time': 3.009343245,\n",
       "  'prompt_time': 0.017816621,\n",
       "  'queue_time': 0.051203739,\n",
       "  'total_time': 3.027159866},\n",
       " 'model_name': 'deepseek-r1-distill-llama-70b',\n",
       " 'system_fingerprint': 'fp_1bbe7845ec',\n",
       " 'service_tier': 'on_demand',\n",
       " 'finish_reason': 'stop',\n",
       " 'logprobs': None}"
      ]
     },
     "execution_count": 25,
     "metadata": {},
     "output_type": "execute_result"
    }
   ],
   "source": [
    "result.response_metadata"
   ]
  },
  {
   "cell_type": "markdown",
   "id": "979254fb",
   "metadata": {},
   "source": [
    "## Tools\n",
    "\n",
    "Tools are useful whenever you want a model to interact with external systems.\n",
    "\n",
    "External systems (e.g., APIs) often require a particular input schema or payload, rather than natural language. \n",
    "\n",
    "When we bind an API, for example, as a tool we given the model awareness of the required input schema.\n",
    "\n",
    "The model will choose to call a tool based upon the natural language input from the user.\n",
    "\n",
    "\n",
    "[Many LLM providers support tool calling](https://python.langchain.com/v0.1/docs/integrations/chat/) and [tool calling interface](https://blog.langchain.dev/improving-core-tool-interfaces-and-docs-in-langchain/) in LangChain is simple. \n",
    "\n",
    "![Screenshot 2024-08-19 at 7.46.28 PM.png](https://cdn.prod.website-files.com/65b8cd72835ceeacd4449a53/66dbab08dc1c17a7a57f9960_chain2.png)"
   ]
  },
  {
   "cell_type": "code",
   "execution_count": 26,
   "id": "fa457976",
   "metadata": {},
   "outputs": [],
   "source": [
    "from langchain_core.tools import tool\n",
    "\n",
    "@tool\n",
    "def multiply(a: int, b: int) -> int:\n",
    "    \"\"\"Multiply a and b.\n",
    "\n",
    "    Args:\n",
    "        a: first int\n",
    "        b: second int\n",
    "    \"\"\"\n",
    "    return a * b\n"
   ]
  },
  {
   "cell_type": "code",
   "execution_count": 27,
   "id": "ef3767c6",
   "metadata": {},
   "outputs": [],
   "source": [
    "llm_with_tools = LLM.bind_tools([multiply])"
   ]
  },
  {
   "cell_type": "code",
   "execution_count": 28,
   "id": "0e6276f5",
   "metadata": {},
   "outputs": [
    {
     "data": {
      "text/plain": [
       "AIMessage(content='', additional_kwargs={'reasoning_content': 'Okay, the user is asking, \"What is 2 multiplied by 3.\" I need to figure out the best way to assist them using the tools I have.\\n\\nLooking at the tools provided, there\\'s a function called \"multiply\" which takes two integers, a and b, and returns their product. That seems perfect for this query.\\n\\nSo, I should call the multiply function with a=2 and b=3. I\\'ll structure the tool call with the function name and the arguments in JSON format as specified.\\n\\nI need to make sure the arguments are correctly formatted as integers. Once I make the call, it should return 6, which is the product of 2 and 3.\\n\\nI should present the tool call in the required XML tags, ensuring the JSON inside is properly formatted.\\n', 'tool_calls': [{'id': 'xq0tasy83', 'function': {'arguments': '{\"a\":2,\"b\":3}', 'name': 'multiply'}, 'type': 'function'}]}, response_metadata={'token_usage': {'completion_tokens': 193, 'prompt_tokens': 153, 'total_tokens': 346, 'completion_time': 0.872060166, 'prompt_time': 0.022827269, 'queue_time': 0.07438194, 'total_time': 0.894887435}, 'model_name': 'deepseek-r1-distill-llama-70b', 'system_fingerprint': 'fp_76307ac09b', 'service_tier': 'on_demand', 'finish_reason': 'tool_calls', 'logprobs': None}, id='run--e8cc51c2-942e-458f-8188-244be83fbb74-0', tool_calls=[{'name': 'multiply', 'args': {'a': 2, 'b': 3}, 'id': 'xq0tasy83', 'type': 'tool_call'}], usage_metadata={'input_tokens': 153, 'output_tokens': 193, 'total_tokens': 346})"
      ]
     },
     "execution_count": 28,
     "metadata": {},
     "output_type": "execute_result"
    }
   ],
   "source": [
    "tool_call = llm_with_tools.invoke([HumanMessage(content=f\"What is 2 multiplied by 3\", name=\"Lance\")])\n",
    "tool_call"
   ]
  },
  {
   "cell_type": "code",
   "execution_count": 29,
   "id": "863dcf6e",
   "metadata": {},
   "outputs": [
    {
     "data": {
      "text/plain": [
       "[{'name': 'multiply',\n",
       "  'args': {'a': 2, 'b': 3},\n",
       "  'id': 'xq0tasy83',\n",
       "  'type': 'tool_call'}]"
      ]
     },
     "execution_count": 29,
     "metadata": {},
     "output_type": "execute_result"
    }
   ],
   "source": [
    "tool_call.tool_calls\n"
   ]
  },
  {
   "cell_type": "code",
   "execution_count": 30,
   "id": "ba90a1ff",
   "metadata": {},
   "outputs": [
    {
     "data": {
      "text/plain": [
       "[{'id': 'xq0tasy83',\n",
       "  'function': {'arguments': '{\"a\":2,\"b\":3}', 'name': 'multiply'},\n",
       "  'type': 'function'}]"
      ]
     },
     "execution_count": 30,
     "metadata": {},
     "output_type": "execute_result"
    }
   ],
   "source": [
    "tool_call.additional_kwargs['tool_calls']"
   ]
  },
  {
   "cell_type": "markdown",
   "id": "670f09c6",
   "metadata": {},
   "source": [
    "## Using messages as state\n",
    "\n",
    "With these foundations in place, we can now use [`messages`](https://python.langchain.com/v0.2/docs/concepts/#messages) in our graph state.\n",
    "\n",
    "Let's define our state, `MessagesState`, as a `TypedDict` with a single key: `messages`.\n",
    "\n",
    "`messages` is simply a list of messages, as we defined above (e.g., `HumanMessage`, etc)."
   ]
  },
  {
   "cell_type": "code",
   "execution_count": 31,
   "id": "dc608b36",
   "metadata": {},
   "outputs": [],
   "source": [
    "from typing_extensions import TypedDict\n",
    "from langchain_core.messages import AnyMessage\n",
    "\n",
    "class MessageState(TypedDict):\n",
    "    messages:list[AnyMessage]\n",
    "    "
   ]
  },
  {
   "cell_type": "markdown",
   "id": "153521b9",
   "metadata": {},
   "source": [
    "## Reducers\n",
    "\n",
    "Now, we have a minor problem! \n",
    "\n",
    "As we discussed, each node will return a new value for our state key `messages`.\n",
    "\n",
    "But, this new value will [will override](https://langchain-ai.github.io/langgraph/concepts/low_level/#reducers) the prior `messages` value.\n",
    " \n",
    "As our graph runs, we want to **append** messages to to our `messages` state key.\n",
    " \n",
    "We can use [reducer functions](https://langchain-ai.github.io/langgraph/concepts/low_level/#reducers) address this.\n",
    "\n",
    "Reducers allow us to specify how state updates are performed.\n",
    "\n",
    "If no reducer function is specified, then it is assumed that updates to the key should *override it* as we saw before.\n",
    " \n",
    "But, to append messages, we can use the pre-built `add_messages` reducer.\n",
    "\n",
    "This ensures that any messages are appended to the existing list of messages.\n",
    "\n",
    "We annotate simply need to annotate our `messages` key with the `add_messages` reducer function as metadata."
   ]
  },
  {
   "cell_type": "code",
   "execution_count": 32,
   "id": "15032153",
   "metadata": {},
   "outputs": [],
   "source": [
    "from typing import Annotated\n",
    "from langgraph.graph.message import add_messages\n",
    "\n",
    "class MessageState(TypedDict):\n",
    "    messages:Annotated[list[AnyMessage], add_messages]"
   ]
  },
  {
   "cell_type": "markdown",
   "id": "0a73274b",
   "metadata": {},
   "source": [
    "Since having a list of messages in graph state is so common, LangGraph has a pre-built [`MessagesState`](https://langchain-ai.github.io/langgraph/concepts/low_level/#messagesstate)! \n",
    "\n",
    "`MessagesState` is defined: \n",
    "\n",
    "* With a pre-build single `messages` key\n",
    "* This is a list of `AnyMessage` objects \n",
    "* It uses the `add_messages` reducer\n",
    "\n",
    "We'll usually use `MessagesState` because it is less verbose than defining a custom `TypedDict`, as shown above."
   ]
  },
  {
   "cell_type": "code",
   "execution_count": 33,
   "id": "b00c49b7",
   "metadata": {},
   "outputs": [
    {
     "data": {
      "text/plain": [
       "[AIMessage(content='Hello! How can I assist you?', additional_kwargs={}, response_metadata={}, name='Model', id='0e98cac5-b958-4301-9bf4-9a04c621c773'),\n",
       " HumanMessage(content=\"I'm looking for information on marine biology.\", additional_kwargs={}, response_metadata={}, name='Lance', id='1b24a77c-2298-4fea-92e4-82311714bd84'),\n",
       " AIMessage(content='Sure, I can help with that. What specifically are you interested in?', additional_kwargs={}, response_metadata={}, name='Model', id='7874e5a1-9c00-4cca-af2e-c955ce1a194c')]"
      ]
     },
     "execution_count": 33,
     "metadata": {},
     "output_type": "execute_result"
    }
   ],
   "source": [
    "# Initial state\n",
    "initial_messages = [AIMessage(content=\"Hello! How can I assist you?\", name=\"Model\"),\n",
    "                    HumanMessage(content=\"I'm looking for information on marine biology.\", name=\"Lance\")\n",
    "                   ]\n",
    "\n",
    "# New message to add\n",
    "new_message = AIMessage(content=\"Sure, I can help with that. What specifically are you interested in?\", name=\"Model\")\n",
    "\n",
    "# Test\n",
    "add_messages(initial_messages , new_message)"
   ]
  },
  {
   "cell_type": "markdown",
   "id": "e35342b3",
   "metadata": {},
   "source": [
    "## Graph"
   ]
  },
  {
   "cell_type": "code",
   "execution_count": 37,
   "id": "daa4e01a",
   "metadata": {},
   "outputs": [
    {
     "data": {
      "image/png": "[encoded data removed]",
      "text/plain": [
       "<IPython.core.display.Image object>"
      ]
     },
     "metadata": {},
     "output_type": "display_data"
    }
   ],
   "source": [
    "from IPython.display import Image,display\n",
    "from langgraph.graph import StateGraph,START,END\n",
    "\n",
    "def tool_Calling_LLM(state: MessageState):\n",
    "    return {\"messages\":[llm_with_tools.invoke(state[\"messages\"])]}\n",
    "\n",
    "builder = StateGraph(MessageState)\n",
    "builder.add_node(\"tool_Calling_LLM\", tool_Calling_LLM)\n",
    "builder.add_edge(START, \"tool_Calling_LLM\")\n",
    "builder.add_edge(\"tool_Calling_LLM\", END)\n",
    "graph = builder.compile()\n",
    "\n",
    "display(Image(graph.get_graph().draw_mermaid_png()))"
   ]
  },
  {
   "cell_type": "code",
   "execution_count": 38,
   "id": "40717978",
   "metadata": {},
   "outputs": [
    {
     "data": {
      "text/plain": [
       "{'messages': [HumanMessage(content='Hello!', additional_kwargs={}, response_metadata={}, id='40b85212-58cd-47d9-a048-c7aadb7f8f09')]}"
      ]
     },
     "execution_count": 38,
     "metadata": {},
     "output_type": "execute_result"
    }
   ],
   "source": [
    "messages"
   ]
  },
  {
   "cell_type": "code",
   "execution_count": 39,
   "id": "d2d2580b",
   "metadata": {},
   "outputs": [
    {
     "name": "stdout",
     "output_type": "stream",
     "text": [
      "================================\u001b[1m Human Message \u001b[0m=================================\n",
      "\n",
      "Hello!\n",
      "==================================\u001b[1m Ai Message \u001b[0m==================================\n",
      "\n",
      "Hello! How can I assist you today? If you have any questions or need help with something, feel free to ask!\n"
     ]
    }
   ],
   "source": [
    "messages = graph.invoke({\"messages\": HumanMessage(content=\"Hello!\")})\n",
    "for m in messages['messages']:\n",
    "    m.pretty_print()"
   ]
  },
  {
   "cell_type": "code",
   "execution_count": null,
   "id": "88c8728b",
   "metadata": {},
   "outputs": [
    {
     "name": "stdout",
     "output_type": "stream",
     "text": [
      "================================\u001b[1m Human Message \u001b[0m=================================\n",
      "\n",
      "Multiply 2 and 3!\n",
      "==================================\u001b[1m Ai Message \u001b[0m==================================\n",
      "Tool Calls:\n",
      "  multiply (7yadcpsb2)\n",
      " Call ID: 7yadcpsb2\n",
      "  Args:\n",
      "    a: 2\n",
      "    b: 3\n"
     ]
    },
    {
     "ename": "",
     "evalue": "",
     "output_type": "error",
     "traceback": [
      "\u001b[1;31mThe Kernel crashed while executing code in the current cell or a previous cell. \n",
      "\u001b[1;31mPlease review the code in the cell(s) to identify a possible cause of the failure. \n",
      "\u001b[1;31mClick <a href='https://aka.ms/vscodeJupyterKernelCrash'>here</a> for more info. \n",
      "\u001b[1;31mView Jupyter <a href='command:jupyter.viewOutput'>log</a> for further details."
     ]
    }
   ],
   "source": [
    "messages = graph.invoke({\"messages\": HumanMessage(content=\"Multiply 2 and 3!\")})\n",
    "for m in messages['messages']:\n",
    "    m.pretty_print()"
   ]
  },
  {
   "cell_type": "code",
   "execution_count": null,
   "id": "750b94df",
   "metadata": {},
   "outputs": [],
   "source": []
  }
 ],
 "metadata": {
  "kernelspec": {
   "display_name": ".venv",
   "language": "python",
   "name": "python3"
  },
  "language_info": {
   "codemirror_mode": {
    "name": "ipython",
    "version": 3
   },
   "file_extension": ".py",
   "mimetype": "text/x-python",
   "name": "python",
   "nbconvert_exporter": "python",
   "pygments_lexer": "ipython3",
   "version": "3.13.3"
  }
 },
 "nbformat": 4,
 "nbformat_minor": 5
}
